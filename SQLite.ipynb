{
 "cells": [
  {
   "cell_type": "code",
   "execution_count": 15,
   "metadata": {
    "ExecuteTime": {
     "end_time": "2021-02-28T10:08:41.811085Z",
     "start_time": "2021-02-28T10:08:41.801112Z"
    }
   },
   "outputs": [],
   "source": [
    "import sqlite3 as sql #no need to pip install"
   ]
  },
  {
   "cell_type": "code",
   "execution_count": 16,
   "metadata": {
    "ExecuteTime": {
     "end_time": "2021-02-28T10:08:42.464806Z",
     "start_time": "2021-02-28T10:08:42.438832Z"
    }
   },
   "outputs": [],
   "source": [
    "con = sql.connect('database1.db') #if database.db doesn't exist in the directory python will create it"
   ]
  },
  {
   "cell_type": "code",
   "execution_count": 17,
   "metadata": {
    "ExecuteTime": {
     "end_time": "2021-02-28T10:08:45.325789Z",
     "start_time": "2021-02-28T10:08:45.299928Z"
    }
   },
   "outputs": [],
   "source": [
    "with con:\n",
    "    con.execute(\"\"\"\n",
    "                CREATE TABLE DFS (\n",
    "                dfid INTEGER NOT NULL PRIMARY KEY AUTOINCREMENT,\n",
    "                email TEXT NOT NULL,\n",
    "                company TEXT NOT NULL,\n",
    "                aboutdf TEXT,\n",
    "                private BOOL\n",
    "                );\n",
    "    \"\"\")"
   ]
  },
  {
   "cell_type": "markdown",
   "metadata": {},
   "source": [
    "Inserting multiple records"
   ]
  },
  {
   "cell_type": "code",
   "execution_count": 20,
   "metadata": {
    "ExecuteTime": {
     "end_time": "2021-02-28T10:09:20.586439Z",
     "start_time": "2021-02-28T10:09:20.578452Z"
    }
   },
   "outputs": [],
   "source": [
    "sql = 'INSERT INTO DFS (dfid, email, company, aboutdf, private) values (?, ?, ?, ?, ?)'\n",
    "data = [\n",
    "    (1, 'thesarthakrastogi@gmail.com', 'Sarthak', 'Private company sales data', 'True'),\n",
    "    (2, 'sarthak_rastogi@icloud.com', 'SarthakRastogi', 'Marketing analysis', 'True'),\n",
    "    (3. 'ayesha@icloud.com', 'Ayesha', 'Feb customers', 'False')\n",
    "]"
   ]
  },
  {
   "cell_type": "code",
   "execution_count": 21,
   "metadata": {
    "ExecuteTime": {
     "end_time": "2021-02-28T10:09:21.187159Z",
     "start_time": "2021-02-28T10:09:21.165869Z"
    }
   },
   "outputs": [],
   "source": [
    "with con:\n",
    "    con.executemany(sql, data)"
   ]
  },
  {
   "cell_type": "markdown",
   "metadata": {},
   "source": [
    "Queries"
   ]
  },
  {
   "cell_type": "code",
   "execution_count": 27,
   "metadata": {
    "ExecuteTime": {
     "end_time": "2021-02-28T10:13:28.870515Z",
     "start_time": "2021-02-28T10:13:28.843257Z"
    }
   },
   "outputs": [
    {
     "name": "stdout",
     "output_type": "stream",
     "text": [
      "(1, 'thesarthakrastogi@gmail.com', 'Sarthak', 'Private company sales data', 'True')\n"
     ]
    }
   ],
   "source": [
    "with con:\n",
    "    data = con.execute('SELECT * FROM DFS WHERE company = \"Sarthak\"')\n",
    "    for row in data:\n",
    "        print(row)"
   ]
  },
  {
   "cell_type": "code",
   "execution_count": null,
   "metadata": {},
   "outputs": [],
   "source": []
  },
  {
   "cell_type": "code",
   "execution_count": null,
   "metadata": {},
   "outputs": [],
   "source": []
  },
  {
   "cell_type": "markdown",
   "metadata": {},
   "source": [
    "Integrating with Pandas"
   ]
  },
  {
   "cell_type": "code",
   "execution_count": 28,
   "metadata": {
    "ExecuteTime": {
     "end_time": "2021-02-28T10:17:43.784684Z",
     "start_time": "2021-02-28T10:17:42.321540Z"
    }
   },
   "outputs": [],
   "source": [
    "import pandas as pd\n",
    "dfppl = pd.DataFrame({\n",
    "    'Name': ['Sarthak', 'Ayesha', 'Sameer', 'Mya'],\n",
    "    'Location': ['Toronto', 'Sydney', 'Boston', 'Ottawa']\n",
    "})"
   ]
  },
  {
   "cell_type": "code",
   "execution_count": 31,
   "metadata": {
    "ExecuteTime": {
     "end_time": "2021-02-28T10:18:41.132510Z",
     "start_time": "2021-02-28T10:18:40.758689Z"
    }
   },
   "outputs": [],
   "source": [
    "dfppl.to_sql('dfppl', con)"
   ]
  },
  {
   "cell_type": "code",
   "execution_count": 34,
   "metadata": {
    "ExecuteTime": {
     "end_time": "2021-02-28T10:22:00.226874Z",
     "start_time": "2021-02-28T10:22:00.210868Z"
    }
   },
   "outputs": [],
   "source": [
    "df = pd.read_sql(\"\"\"\n",
    "        SELECT p.Name, d.email\n",
    "        FROM dfppl p LEFT JOIN DFS d ON p.Name = d.company\n",
    "\n",
    "\"\"\", con)"
   ]
  },
  {
   "cell_type": "markdown",
   "metadata": {},
   "source": [
    "https://towardsdatascience.com/do-you-know-python-has-a-built-in-database-d553989c87bd"
   ]
  },
  {
   "cell_type": "code",
   "execution_count": 35,
   "metadata": {
    "ExecuteTime": {
     "end_time": "2021-02-28T10:22:05.294585Z",
     "start_time": "2021-02-28T10:22:05.258332Z"
    }
   },
   "outputs": [
    {
     "data": {
      "text/html": [
       "<div>\n",
       "<style scoped>\n",
       "    .dataframe tbody tr th:only-of-type {\n",
       "        vertical-align: middle;\n",
       "    }\n",
       "\n",
       "    .dataframe tbody tr th {\n",
       "        vertical-align: top;\n",
       "    }\n",
       "\n",
       "    .dataframe thead th {\n",
       "        text-align: right;\n",
       "    }\n",
       "</style>\n",
       "<table border=\"1\" class=\"dataframe\">\n",
       "  <thead>\n",
       "    <tr style=\"text-align: right;\">\n",
       "      <th></th>\n",
       "      <th>Name</th>\n",
       "      <th>email</th>\n",
       "    </tr>\n",
       "  </thead>\n",
       "  <tbody>\n",
       "    <tr>\n",
       "      <th>0</th>\n",
       "      <td>Sarthak</td>\n",
       "      <td>thesarthakrastogi@gmail.com</td>\n",
       "    </tr>\n",
       "    <tr>\n",
       "      <th>1</th>\n",
       "      <td>Ayesha</td>\n",
       "      <td>None</td>\n",
       "    </tr>\n",
       "    <tr>\n",
       "      <th>2</th>\n",
       "      <td>Sameer</td>\n",
       "      <td>None</td>\n",
       "    </tr>\n",
       "    <tr>\n",
       "      <th>3</th>\n",
       "      <td>Mya</td>\n",
       "      <td>None</td>\n",
       "    </tr>\n",
       "  </tbody>\n",
       "</table>\n",
       "</div>"
      ],
      "text/plain": [
       "      Name                        email\n",
       "0  Sarthak  thesarthakrastogi@gmail.com\n",
       "1   Ayesha                         None\n",
       "2   Sameer                         None\n",
       "3      Mya                         None"
      ]
     },
     "execution_count": 35,
     "metadata": {},
     "output_type": "execute_result"
    }
   ],
   "source": [
    "df"
   ]
  },
  {
   "cell_type": "code",
   "execution_count": null,
   "metadata": {},
   "outputs": [],
   "source": []
  }
 ],
 "metadata": {
  "kernelspec": {
   "display_name": "Python 3",
   "language": "python",
   "name": "python3"
  },
  "language_info": {
   "codemirror_mode": {
    "name": "ipython",
    "version": 3
   },
   "file_extension": ".py",
   "mimetype": "text/x-python",
   "name": "python",
   "nbconvert_exporter": "python",
   "pygments_lexer": "ipython3",
   "version": "3.8.5"
  }
 },
 "nbformat": 4,
 "nbformat_minor": 4
}
