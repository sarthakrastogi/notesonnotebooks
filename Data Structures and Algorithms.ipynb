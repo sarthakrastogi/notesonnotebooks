{
 "cells": [
  {
   "cell_type": "markdown",
   "metadata": {
    "id": "nEFjZ0WgOyRY"
   },
   "source": [
    "#Recursion"
   ]
  },
  {
   "cell_type": "markdown",
   "metadata": {
    "id": "Fo3DpYatOyRh"
   },
   "source": [
    "Breaking the problem into smaller and smaller sub-problems until it can be solved. Brings extra time and space overhead."
   ]
  },
  {
   "cell_type": "markdown",
   "metadata": {
    "heading_collapsed": true,
    "id": "MlPj3OpzOyRj"
   },
   "source": [
    "# Arrays"
   ]
  },
  {
   "cell_type": "code",
   "execution_count": null,
   "metadata": {
    "ExecuteTime": {
     "end_time": "2021-04-30T06:54:55.225587Z",
     "start_time": "2021-04-30T06:54:55.202577Z"
    },
    "hidden": true,
    "id": "oZYUKnbrOyRk"
   },
   "outputs": [],
   "source": [
    "from array import *"
   ]
  },
  {
   "cell_type": "code",
   "execution_count": null,
   "metadata": {
    "ExecuteTime": {
     "end_time": "2021-04-30T06:55:14.826571Z",
     "start_time": "2021-04-30T06:55:14.753155Z"
    },
    "hidden": true,
    "id": "khT3yrG3OyRl",
    "outputId": "baf02f67-59f1-4b5c-f176-5cd1ec8c8a71"
   },
   "outputs": [
    {
     "data": {
      "text/plain": [
       "array('i', [1, 2, 3, 4, 5])"
      ]
     },
     "execution_count": 2,
     "metadata": {
      "tags": []
     },
     "output_type": "execute_result"
    }
   ],
   "source": [
    "a = array('i', [1, 2, 3, 4, 5])\n",
    "a"
   ]
  },
  {
   "cell_type": "markdown",
   "metadata": {
    "hidden": true,
    "id": "M_dSUQ5eOyRo"
   },
   "source": [
    "Insertion"
   ]
  },
  {
   "cell_type": "code",
   "execution_count": null,
   "metadata": {
    "ExecuteTime": {
     "end_time": "2021-04-30T07:31:43.723667Z",
     "start_time": "2021-04-30T07:31:43.702623Z"
    },
    "hidden": true,
    "id": "mcG9lsmBOyRp"
   },
   "outputs": [],
   "source": [
    "a.insert(1, 9) #location, item\n",
    "a"
   ]
  },
  {
   "cell_type": "markdown",
   "metadata": {
    "hidden": true,
    "id": "NVjuYN_gOyRp"
   },
   "source": [
    "Time and Space complexity: O(n) if inserting in the beginning or middle positions since every element has to be shifted. O(1) if inserting in the end."
   ]
  },
  {
   "cell_type": "markdown",
   "metadata": {
    "hidden": true,
    "id": "EMP_j3whOyRq"
   },
   "source": [
    "Traversal"
   ]
  },
  {
   "cell_type": "code",
   "execution_count": null,
   "metadata": {
    "ExecuteTime": {
     "end_time": "2021-04-30T07:32:40.413410Z",
     "start_time": "2021-04-30T07:32:40.386406Z"
    },
    "hidden": true,
    "id": "R4COoC9uOyRr",
    "outputId": "48ab20be-a823-4c4e-c630-3f04000f5940"
   },
   "outputs": [
    {
     "name": "stdout",
     "output_type": "stream",
     "text": [
      "1\n",
      "9\n",
      "2\n",
      "3\n",
      "4\n",
      "5\n"
     ]
    }
   ],
   "source": [
    "for i in a:\n",
    "    print(i)"
   ]
  },
  {
   "cell_type": "markdown",
   "metadata": {
    "hidden": true,
    "id": "5Geb_2bMOyRs"
   },
   "source": [
    "Time complexity: O(n) because of the for loop.\n",
    "\n",
    "Space complexity: O(1) because we don't need any additional space."
   ]
  },
  {
   "cell_type": "markdown",
   "metadata": {
    "hidden": true,
    "id": "QhO5l4uoOyRu"
   },
   "source": [
    "Accessing array elements"
   ]
  },
  {
   "cell_type": "code",
   "execution_count": null,
   "metadata": {
    "ExecuteTime": {
     "end_time": "2021-04-30T07:53:25.822244Z",
     "start_time": "2021-04-30T07:53:25.797523Z"
    },
    "hidden": true,
    "id": "r4EC0QFxOyRu",
    "outputId": "0780d17a-d764-4e8e-84e1-77872bdddba3"
   },
   "outputs": [
    {
     "name": "stdout",
     "output_type": "stream",
     "text": [
      "3\n"
     ]
    }
   ],
   "source": [
    "def accessElement(array, index):\n",
    "    if index >= len(array):\n",
    "        print('No element at this index.')\n",
    "    else:\n",
    "        print(array[index])\n",
    "accessElement(a, 3)"
   ]
  },
  {
   "cell_type": "markdown",
   "metadata": {
    "hidden": true,
    "id": "WK9iGI-8OyRv"
   },
   "source": [
    "Time and space complexity: O(1)"
   ]
  },
  {
   "cell_type": "markdown",
   "metadata": {
    "hidden": true,
    "id": "ucXkMr0GOyRv"
   },
   "source": [
    "Finding an element"
   ]
  },
  {
   "cell_type": "code",
   "execution_count": null,
   "metadata": {
    "ExecuteTime": {
     "end_time": "2021-04-30T07:57:14.130571Z",
     "start_time": "2021-04-30T07:57:14.112563Z"
    },
    "hidden": true,
    "id": "wtkOIa_kOyRv",
    "outputId": "4004caeb-09dd-40a6-8197-40e4a3fa0ffe"
   },
   "outputs": [
    {
     "data": {
      "text/plain": [
       "1"
      ]
     },
     "execution_count": 8,
     "metadata": {
      "tags": []
     },
     "output_type": "execute_result"
    }
   ],
   "source": [
    "def searchInArray(array, value):\n",
    "    for i in array:\n",
    "        if i == value:\n",
    "            return array.index(value)\n",
    "    return \"The element does not exist in the array\"\n",
    "\n",
    "searchInArray(a, 9)"
   ]
  },
  {
   "cell_type": "markdown",
   "metadata": {
    "hidden": true,
    "id": "e0l-FhShOyRw"
   },
   "source": [
    "Time complexity: O(n)\n",
    "\n",
    "Space complexity: O(1)"
   ]
  },
  {
   "cell_type": "markdown",
   "metadata": {
    "hidden": true,
    "id": "oID9SfwsOyRx"
   },
   "source": [
    "Deleting an element:"
   ]
  },
  {
   "cell_type": "code",
   "execution_count": 3,
   "metadata": {
    "executionInfo": {
     "elapsed": 2671,
     "status": "ok",
     "timestamp": 1622480937917,
     "user": {
      "displayName": "Sarthak Rastogi",
      "photoUrl": "https://lh3.googleusercontent.com/a-/AOh14Gju2mNh-CIUs6e_EgYdv7eWpyCq5RUtF0XfW0PgJUM=s64",
      "userId": "13011506269675720653"
     },
     "user_tz": -330
    },
    "hidden": true,
    "id": "0EN9RDbg2pks"
   },
   "outputs": [],
   "source": [
    "    def kidsWithCandies(candies, extraCandies):\n",
    "        a = []\n",
    "        mx = max(candies)\n",
    "        for i in candies:\n",
    "            if (i + extraCandies) > mx:\n",
    "                a.append('true')\n",
    "            else:\n",
    "                a.append('false')\n",
    "        return a"
   ]
  },
  {
   "cell_type": "code",
   "execution_count": 4,
   "metadata": {
    "colab": {
     "base_uri": "https://localhost:8080/"
    },
    "executionInfo": {
     "elapsed": 393,
     "status": "ok",
     "timestamp": 1622480988960,
     "user": {
      "displayName": "Sarthak Rastogi",
      "photoUrl": "https://lh3.googleusercontent.com/a-/AOh14Gju2mNh-CIUs6e_EgYdv7eWpyCq5RUtF0XfW0PgJUM=s64",
      "userId": "13011506269675720653"
     },
     "user_tz": -330
    },
    "hidden": true,
    "id": "zJW0hWGS21X0",
    "outputId": "bac37f9e-3290-4ac8-a23f-8b2ccd00d72e"
   },
   "outputs": [
    {
     "data": {
      "text/plain": [
       "['false', 'true', 'true', 'false', 'true']"
      ]
     },
     "execution_count": 4,
     "metadata": {
      "tags": []
     },
     "output_type": "execute_result"
    }
   ],
   "source": [
    "kidsWithCandies([2, 3, 5, 1, 3], 3)"
   ]
  },
  {
   "cell_type": "code",
   "execution_count": null,
   "metadata": {
    "ExecuteTime": {
     "end_time": "2021-04-30T07:59:46.884063Z",
     "start_time": "2021-04-30T07:59:46.866062Z"
    },
    "hidden": true,
    "id": "2Z53b-bJOyRx",
    "outputId": "6ddd517e-9d69-4a86-8450-ae6a7ad85c65"
   },
   "outputs": [
    {
     "data": {
      "text/plain": [
       "array('i', [1, 2, 3, 4, 5])"
      ]
     },
     "execution_count": 9,
     "metadata": {
      "tags": []
     },
     "output_type": "execute_result"
    }
   ],
   "source": [
    "a.remove(9)\n",
    "a"
   ]
  },
  {
   "cell_type": "markdown",
   "metadata": {
    "hidden": true,
    "id": "mDaS9w00OyRx"
   },
   "source": [
    "Time complexity: O(n) since elements have to be moved by one index to accomodate the empty space left after deletion.\n",
    "\n",
    "Space complexity: O(1)"
   ]
  },
  {
   "cell_type": "markdown",
   "metadata": {
    "hidden": true,
    "id": "tK1QPjiJOyRy"
   },
   "source": [
    "---"
   ]
  },
  {
   "cell_type": "markdown",
   "metadata": {
    "heading_collapsed": true,
    "id": "eANpHHtuO03p"
   },
   "source": [
    "# Stacks"
   ]
  },
  {
   "cell_type": "code",
   "execution_count": 1,
   "metadata": {
    "ExecuteTime": {
     "end_time": "2021-07-25T05:26:30.445106Z",
     "start_time": "2021-07-25T05:26:30.433153Z"
    },
    "hidden": true,
    "id": "LpsikEGsO3Qx"
   },
   "outputs": [],
   "source": [
    "def create_stack():\n",
    "  stack = []\n",
    "  return stack"
   ]
  },
  {
   "cell_type": "code",
   "execution_count": null,
   "metadata": {
    "hidden": true,
    "id": "wu3COMFAO8UP"
   },
   "outputs": [],
   "source": [
    "def push(stack, item):\n",
    "  stack.append(item)"
   ]
  },
  {
   "cell_type": "code",
   "execution_count": null,
   "metadata": {
    "hidden": true,
    "id": "nIH4OnG8PFk1"
   },
   "outputs": [],
   "source": [
    "def pop(stack):\n",
    "  if len(stack) != 0:\n",
    "    stack.pop()"
   ]
  },
  {
   "cell_type": "code",
   "execution_count": null,
   "metadata": {
    "hidden": true,
    "id": "vq3hDyMdPFh_"
   },
   "outputs": [],
   "source": [
    "stack = create_stack()"
   ]
  },
  {
   "cell_type": "code",
   "execution_count": null,
   "metadata": {
    "colab": {
     "base_uri": "https://localhost:8080/"
    },
    "executionInfo": {
     "elapsed": 1231,
     "status": "ok",
     "timestamp": 1621521966560,
     "user": {
      "displayName": "Sarthak Rastogi",
      "photoUrl": "https://lh3.googleusercontent.com/a-/AOh14Gju2mNh-CIUs6e_EgYdv7eWpyCq5RUtF0XfW0PgJUM=s64",
      "userId": "13011506269675720653"
     },
     "user_tz": -330
    },
    "hidden": true,
    "id": "Al2cHmfoPFda",
    "outputId": "090de8d9-ec04-490a-eef3-191d6a175d66"
   },
   "outputs": [
    {
     "data": {
      "text/plain": [
       "[1, 2]"
      ]
     },
     "execution_count": 5,
     "metadata": {
      "tags": []
     },
     "output_type": "execute_result"
    }
   ],
   "source": [
    "push(stack, 2)\n",
    "stack"
   ]
  },
  {
   "cell_type": "code",
   "execution_count": null,
   "metadata": {
    "colab": {
     "base_uri": "https://localhost:8080/"
    },
    "executionInfo": {
     "elapsed": 1051,
     "status": "ok",
     "timestamp": 1621522008624,
     "user": {
      "displayName": "Sarthak Rastogi",
      "photoUrl": "https://lh3.googleusercontent.com/a-/AOh14Gju2mNh-CIUs6e_EgYdv7eWpyCq5RUtF0XfW0PgJUM=s64",
      "userId": "13011506269675720653"
     },
     "user_tz": -330
    },
    "hidden": true,
    "id": "zkYVHY9lPcSP",
    "outputId": "9524b42c-249b-4abc-e494-8ec1d34a8808"
   },
   "outputs": [
    {
     "data": {
      "text/plain": [
       "[1]"
      ]
     },
     "execution_count": 9,
     "metadata": {
      "tags": []
     },
     "output_type": "execute_result"
    }
   ],
   "source": [
    "pop(stack)\n",
    "stack"
   ]
  },
  {
   "cell_type": "markdown",
   "metadata": {
    "id": "NwJ3czMNPyxl"
   },
   "source": [
    "# Queue"
   ]
  },
  {
   "cell_type": "code",
   "execution_count": null,
   "metadata": {
    "id": "VIIIPNGfRhiu"
   },
   "outputs": [],
   "source": [
    "q = []"
   ]
  },
  {
   "cell_type": "code",
   "execution_count": null,
   "metadata": {
    "id": "gWbPmVdIRnGN"
   },
   "outputs": [],
   "source": [
    "def enqueue(queue, item):\n",
    "  queue.append(item)"
   ]
  },
  {
   "cell_type": "code",
   "execution_count": null,
   "metadata": {
    "id": "i7b5FGq4RnAN"
   },
   "outputs": [],
   "source": [
    "def dequeue(queue):\n",
    "  if len(queue) > 0:\n",
    "    return queue.pop(0)"
   ]
  },
  {
   "cell_type": "code",
   "execution_count": null,
   "metadata": {
    "colab": {
     "base_uri": "https://localhost:8080/"
    },
    "executionInfo": {
     "elapsed": 1700,
     "status": "ok",
     "timestamp": 1621522717100,
     "user": {
      "displayName": "Sarthak Rastogi",
      "photoUrl": "https://lh3.googleusercontent.com/a-/AOh14Gju2mNh-CIUs6e_EgYdv7eWpyCq5RUtF0XfW0PgJUM=s64",
      "userId": "13011506269675720653"
     },
     "user_tz": -330
    },
    "id": "tnRSOWByRm6s",
    "outputId": "3b4e1fec-4e5d-4fd6-fea6-166d24f6cf9a"
   },
   "outputs": [
    {
     "data": {
      "text/plain": [
       "[1, 2]"
      ]
     },
     "execution_count": 16,
     "metadata": {
      "tags": []
     },
     "output_type": "execute_result"
    }
   ],
   "source": [
    "enqueue(q, 2)\n",
    "q"
   ]
  },
  {
   "cell_type": "code",
   "execution_count": null,
   "metadata": {
    "colab": {
     "base_uri": "https://localhost:8080/"
    },
    "executionInfo": {
     "elapsed": 1620,
     "status": "ok",
     "timestamp": 1621522731352,
     "user": {
      "displayName": "Sarthak Rastogi",
      "photoUrl": "https://lh3.googleusercontent.com/a-/AOh14Gju2mNh-CIUs6e_EgYdv7eWpyCq5RUtF0XfW0PgJUM=s64",
      "userId": "13011506269675720653"
     },
     "user_tz": -330
    },
    "id": "1h1jBrnfSSNQ",
    "outputId": "3c178a03-6988-49e9-9534-dc241ea73b6c"
   },
   "outputs": [
    {
     "data": {
      "text/plain": [
       "[2]"
      ]
     },
     "execution_count": 17,
     "metadata": {
      "tags": []
     },
     "output_type": "execute_result"
    }
   ],
   "source": [
    "dequeue(q)\n",
    "q"
   ]
  },
  {
   "cell_type": "markdown",
   "metadata": {
    "id": "539S7XJPDAxq"
   },
   "source": [
    "## Circular Queues"
   ]
  },
  {
   "cell_type": "code",
   "execution_count": null,
   "metadata": {
    "id": "30-CQKxhDEeJ"
   },
   "outputs": [],
   "source": [
    "class CircularQueue:\n",
    "    def __init__(self, k):\n",
    "        self.k = k\n",
    "        self.queue = [None]*k\n",
    "        self.head = -1\n",
    "        self.tail = -1\n",
    "        \n",
    "    def enqueue(self, data):\n",
    "        #if the cq is full\n",
    "        if (self.tail + 1)%self.k == self.head:\n",
    "            print(\"cq full\")\n",
    "            \n",
    "        #if the cq is empty\n",
    "        elif self.head == -1:\n",
    "            self.tail = 0\n",
    "            self.head = 0\n",
    "            self.queue[self.tail] = data\n",
    "            \n",
    "        else:\n",
    "            self.tail = (self.tail + 1)%self.k\n",
    "            self.queue[self.tail] = data\n",
    "            \n",
    "            \n",
    "    def dequeue(self):\n",
    "        #if the cq is empty\n",
    "        if self.head == -1:\n",
    "            print(\"the cq is empty\")\n",
    "\n",
    "        #if there is only one element\n",
    "        elif self.head == self.tail:\n",
    "            self.head = -1\n",
    "            self.tail = -1\n",
    "            \n",
    "        #if there are multiple elements\n",
    "        else:\n",
    "            self.head = (self.head + 1) % self.k\n",
    "        \n",
    "        \n",
    "    def printCircularQueue(self):\n",
    "        if self.head == -1:\n",
    "            print(\"cq empty\")\n",
    "            \n",
    "        else:\n",
    "            for i in range(self.head, self.tail+1):\n",
    "                print(self.queue[i], end=\" \")"
   ]
  },
  {
   "cell_type": "code",
   "execution_count": null,
   "metadata": {
    "colab": {
     "base_uri": "https://localhost:8080/"
    },
    "executionInfo": {
     "elapsed": 692,
     "status": "ok",
     "timestamp": 1621709182383,
     "user": {
      "displayName": "Sarthak Rastogi",
      "photoUrl": "https://lh3.googleusercontent.com/a-/AOh14Gju2mNh-CIUs6e_EgYdv7eWpyCq5RUtF0XfW0PgJUM=s64",
      "userId": "13011506269675720653"
     },
     "user_tz": -330
    },
    "id": "XUgpsJeEDa32",
    "outputId": "3a12029c-e0c6-4683-92c7-e652c079aaca"
   },
   "outputs": [
    {
     "data": {
      "text/plain": [
       "<__main__.CircularQueue at 0x7f9afa065450>"
      ]
     },
     "execution_count": 3,
     "metadata": {
      "tags": []
     },
     "output_type": "execute_result"
    }
   ],
   "source": [
    "cq1 = CircularQueue(5)\n",
    "cq1"
   ]
  },
  {
   "cell_type": "code",
   "execution_count": null,
   "metadata": {
    "id": "u5cm4RP2Zl_f"
   },
   "outputs": [],
   "source": [
    "cq1.enqueue(2)\n",
    "cq1.enqueue(3)\n",
    "cq1.enqueue(4)"
   ]
  },
  {
   "cell_type": "code",
   "execution_count": null,
   "metadata": {
    "id": "NFO3xl_dZltx"
   },
   "outputs": [],
   "source": [
    "cq1.enqueue(5)"
   ]
  },
  {
   "cell_type": "code",
   "execution_count": null,
   "metadata": {
    "colab": {
     "base_uri": "https://localhost:8080/"
    },
    "executionInfo": {
     "elapsed": 503,
     "status": "ok",
     "timestamp": 1621709715945,
     "user": {
      "displayName": "Sarthak Rastogi",
      "photoUrl": "https://lh3.googleusercontent.com/a-/AOh14Gju2mNh-CIUs6e_EgYdv7eWpyCq5RUtF0XfW0PgJUM=s64",
      "userId": "13011506269675720653"
     },
     "user_tz": -330
    },
    "id": "hH5biX51Zlo7",
    "outputId": "90caa070-d31b-4d16-99e1-f55ae564bb91"
   },
   "outputs": [
    {
     "name": "stdout",
     "output_type": "stream",
     "text": [
      "2 3 4 5 \n"
     ]
    }
   ],
   "source": [
    "cq1.printCircularQueue()"
   ]
  },
  {
   "cell_type": "code",
   "execution_count": null,
   "metadata": {
    "colab": {
     "base_uri": "https://localhost:8080/"
    },
    "executionInfo": {
     "elapsed": 872,
     "status": "ok",
     "timestamp": 1621709691391,
     "user": {
      "displayName": "Sarthak Rastogi",
      "photoUrl": "https://lh3.googleusercontent.com/a-/AOh14Gju2mNh-CIUs6e_EgYdv7eWpyCq5RUtF0XfW0PgJUM=s64",
      "userId": "13011506269675720653"
     },
     "user_tz": -330
    },
    "id": "LCwj1vyMbdU0",
    "outputId": "301d8b14-abe1-411e-f24d-8ca15e46971e"
   },
   "outputs": [
    {
     "data": {
      "text/plain": [
       "1"
      ]
     },
     "execution_count": 10,
     "metadata": {
      "tags": []
     },
     "output_type": "execute_result"
    }
   ],
   "source": [
    "cq1.dequeue()"
   ]
  },
  {
   "cell_type": "code",
   "execution_count": null,
   "metadata": {
    "colab": {
     "base_uri": "https://localhost:8080/"
    },
    "executionInfo": {
     "elapsed": 490,
     "status": "ok",
     "timestamp": 1621709335359,
     "user": {
      "displayName": "Sarthak Rastogi",
      "photoUrl": "https://lh3.googleusercontent.com/a-/AOh14Gju2mNh-CIUs6e_EgYdv7eWpyCq5RUtF0XfW0PgJUM=s64",
      "userId": "13011506269675720653"
     },
     "user_tz": -330
    },
    "id": "H80kVYOkZ_QE",
    "outputId": "310c6b5f-edce-40ff-92ee-4951f62fa16c"
   },
   "outputs": [
    {
     "name": "stdout",
     "output_type": "stream",
     "text": [
      "1 \n"
     ]
    }
   ],
   "source": [
    "cq2 = CircularQueue(3)\n",
    "cq2.enqueue(1)\n",
    "cq2.printCircularQueue()"
   ]
  },
  {
   "cell_type": "markdown",
   "metadata": {
    "id": "DBIc1kpucOiw"
   },
   "source": [
    "##Priority Queue"
   ]
  },
  {
   "cell_type": "code",
   "execution_count": null,
   "metadata": {
    "id": "cChmMHa6cUzm"
   },
   "outputs": [],
   "source": []
  },
  {
   "cell_type": "code",
   "execution_count": null,
   "metadata": {
    "id": "4nsBuipycUud"
   },
   "outputs": [],
   "source": []
  },
  {
   "cell_type": "code",
   "execution_count": null,
   "metadata": {
    "id": "ctRXiYPEcUWC"
   },
   "outputs": [],
   "source": []
  },
  {
   "cell_type": "markdown",
   "metadata": {
    "id": "NceS0eaPfA51"
   },
   "source": [
    "## Double Ended Queue"
   ]
  },
  {
   "cell_type": "code",
   "execution_count": 2,
   "metadata": {
    "ExecuteTime": {
     "end_time": "2021-07-25T06:32:35.096008Z",
     "start_time": "2021-07-25T06:32:35.060961Z"
    },
    "id": "KaQlT9-2fEG0"
   },
   "outputs": [],
   "source": [
    "class DEQueue:\n",
    "  def __init__(self):\n",
    "    self.items = []\n",
    "\n",
    "  def isEmpty(self):\n",
    "    return self.items == []\n",
    "\n",
    "  def addRear(self, item):\n",
    "    self.items.append(item)\n",
    "\n",
    "  def addFront(self, item):\n",
    "    self.items.insert(0, item)\n",
    "\n",
    "  def removeFront(self):\n",
    "    return self.items.pop(0)\n",
    "\n",
    "  def removeRear(self):\n",
    "    return self.items.pop()"
   ]
  },
  {
   "cell_type": "code",
   "execution_count": null,
   "metadata": {
    "id": "N2Ai4pYnfED6"
   },
   "outputs": [],
   "source": [
    "DEQ = DEQueue()"
   ]
  },
  {
   "cell_type": "code",
   "execution_count": null,
   "metadata": {
    "colab": {
     "base_uri": "https://localhost:8080/"
    },
    "executionInfo": {
     "elapsed": 1189,
     "status": "ok",
     "timestamp": 1621711114981,
     "user": {
      "displayName": "Sarthak Rastogi",
      "photoUrl": "https://lh3.googleusercontent.com/a-/AOh14Gju2mNh-CIUs6e_EgYdv7eWpyCq5RUtF0XfW0PgJUM=s64",
      "userId": "13011506269675720653"
     },
     "user_tz": -330
    },
    "id": "dj7hSpJ4g6cv",
    "outputId": "7a0ea139-5255-4abc-ce05-87b5b24f58a4"
   },
   "outputs": [
    {
     "data": {
      "text/plain": [
       "[8]"
      ]
     },
     "execution_count": 17,
     "metadata": {
      "tags": []
     },
     "output_type": "execute_result"
    }
   ],
   "source": [
    "DEQ.addRear(8)\n",
    "DEQ.items"
   ]
  },
  {
   "cell_type": "code",
   "execution_count": null,
   "metadata": {
    "colab": {
     "base_uri": "https://localhost:8080/"
    },
    "executionInfo": {
     "elapsed": 8,
     "status": "ok",
     "timestamp": 1621711144087,
     "user": {
      "displayName": "Sarthak Rastogi",
      "photoUrl": "https://lh3.googleusercontent.com/a-/AOh14Gju2mNh-CIUs6e_EgYdv7eWpyCq5RUtF0XfW0PgJUM=s64",
      "userId": "13011506269675720653"
     },
     "user_tz": -330
    },
    "id": "n0Ixcnw6g8w4",
    "outputId": "ee1a4519-1b8b-4b63-8c3d-2273c9a7b24e"
   },
   "outputs": [
    {
     "data": {
      "text/plain": [
       "[7, 8]"
      ]
     },
     "execution_count": 18,
     "metadata": {
      "tags": []
     },
     "output_type": "execute_result"
    }
   ],
   "source": [
    "DEQ.addFront(7)\n",
    "DEQ.items"
   ]
  },
  {
   "cell_type": "code",
   "execution_count": null,
   "metadata": {
    "colab": {
     "base_uri": "https://localhost:8080/"
    },
    "executionInfo": {
     "elapsed": 504,
     "status": "ok",
     "timestamp": 1621711170621,
     "user": {
      "displayName": "Sarthak Rastogi",
      "photoUrl": "https://lh3.googleusercontent.com/a-/AOh14Gju2mNh-CIUs6e_EgYdv7eWpyCq5RUtF0XfW0PgJUM=s64",
      "userId": "13011506269675720653"
     },
     "user_tz": -330
    },
    "id": "OkKpFJjgg8rK",
    "outputId": "189ead0e-4a85-421e-e659-9cbef7d927cc"
   },
   "outputs": [
    {
     "data": {
      "text/plain": [
       "[8]"
      ]
     },
     "execution_count": 19,
     "metadata": {
      "tags": []
     },
     "output_type": "execute_result"
    }
   ],
   "source": [
    "DEQ.removeFront()\n",
    "DEQ.items"
   ]
  },
  {
   "cell_type": "code",
   "execution_count": null,
   "metadata": {
    "colab": {
     "base_uri": "https://localhost:8080/"
    },
    "executionInfo": {
     "elapsed": 12,
     "status": "ok",
     "timestamp": 1621711197079,
     "user": {
      "displayName": "Sarthak Rastogi",
      "photoUrl": "https://lh3.googleusercontent.com/a-/AOh14Gju2mNh-CIUs6e_EgYdv7eWpyCq5RUtF0XfW0PgJUM=s64",
      "userId": "13011506269675720653"
     },
     "user_tz": -330
    },
    "id": "7tU37O4Cg8mk",
    "outputId": "f59a0951-0e0c-44ec-f157-0757f390244c"
   },
   "outputs": [
    {
     "data": {
      "text/plain": [
       "[]"
      ]
     },
     "execution_count": 20,
     "metadata": {
      "tags": []
     },
     "output_type": "execute_result"
    }
   ],
   "source": [
    "DEQ.removeRear()\n",
    "DEQ.items"
   ]
  },
  {
   "cell_type": "code",
   "execution_count": null,
   "metadata": {
    "id": "3sGpZQsCg8d8"
   },
   "outputs": [],
   "source": []
  },
  {
   "cell_type": "markdown",
   "metadata": {
    "heading_collapsed": true,
    "id": "lnGwfgZjOyRy"
   },
   "source": [
    "# Linked Lists"
   ]
  },
  {
   "cell_type": "markdown",
   "metadata": {
    "hidden": true,
    "id": "YRldWJTGOyRy"
   },
   "source": [
    "A linked list is a form of sequential collection that is not in a fixed order. It's made up of independent nodes that may contain any type of data. Each node has a reference to the next node in the link."
   ]
  },
  {
   "cell_type": "markdown",
   "metadata": {
    "hidden": true,
    "id": "7GezF181OyRz"
   },
   "source": [
    "* All elements are independent objects\n",
    "* The size of a linked list is not pre-defined\n",
    "* Insertion and deletion of items is more efficient than in arrays\n",
    "* Random access is less efficient than in arrays"
   ]
  },
  {
   "cell_type": "markdown",
   "metadata": {
    "heading_collapsed": true,
    "hidden": true,
    "id": "T8wLKnR6OyR0"
   },
   "source": [
    "## Singly Linked List"
   ]
  },
  {
   "cell_type": "code",
   "execution_count": null,
   "metadata": {
    "hidden": true,
    "id": "7TKzLzUq_3ZX"
   },
   "outputs": [],
   "source": [
    "class Node:\n",
    "  def __init__(self, item):\n",
    "    self.item = item\n",
    "    self.next = None"
   ]
  },
  {
   "cell_type": "code",
   "execution_count": null,
   "metadata": {
    "hidden": true,
    "id": "w7eLlEWR_6h7"
   },
   "outputs": [],
   "source": [
    "class LinkedList:\n",
    "  def __init__(self):\n",
    "    self.head = None\n",
    "\n",
    "  #Inserting values to linked lists\n",
    "  def insertAtBeginning(self, data):\n",
    "    new_node = Node(data)\n",
    "    new_node.next = self.head\n",
    "    self.head = new_node\n",
    "\n",
    "  def insertAfter(self, node, data):\n",
    "    new_node = Node(data)\n",
    "    new_node.next = node.next\n",
    "    node.next = new_node\n",
    "\n",
    "  def insertAtEnd(self, data):\n",
    "    new_node = Node(data)\n",
    "    if self.head is None:\n",
    "      self.head = new_node\n",
    "      return\n",
    "    last = self.head\n",
    "    while (last.next):\n",
    "      last = last.next\n",
    "    last.next = new_node\n",
    "\n",
    "\n",
    "  #Deleting values from linked lists\n",
    "  def deleteNode(self, position):\n",
    "    if self.head == None:\n",
    "      return\n",
    "\n",
    "    #Deleting the first node\n",
    "    temp_node = self.head\n",
    "    if position==0:\n",
    "      self.head = temp_node.next\n",
    "      temp_node = None\n",
    "      return\n",
    "\n",
    "    for i in range(position - 1):\n",
    "      temp_node = temp_node.next\n",
    "      if temp_node is None:\n",
    "        break\n",
    "\n",
    "    if temp_node is None:\n",
    "      return\n",
    "\n",
    "    if temp_node.next is None:\n",
    "      return\n",
    "\n",
    "    next = temp_node.next.next\n",
    "    temp_node.next = None\n",
    "    temp_node.next = next\n",
    "\n",
    "  def printList(self):\n",
    "    temp_node = self.head\n",
    "    while (temp_node):\n",
    "      print(temp_node.item, end = \" \")\n",
    "      temp_node = temp_node.next    "
   ]
  },
  {
   "cell_type": "code",
   "execution_count": null,
   "metadata": {
    "hidden": true,
    "id": "QuC06TbkIAEq"
   },
   "outputs": [],
   "source": [
    "llist = LinkedList()"
   ]
  },
  {
   "cell_type": "code",
   "execution_count": null,
   "metadata": {
    "colab": {
     "base_uri": "https://localhost:8080/"
    },
    "executionInfo": {
     "elapsed": 639,
     "status": "ok",
     "timestamp": 1621755016705,
     "user": {
      "displayName": "Sarthak Rastogi",
      "photoUrl": "https://lh3.googleusercontent.com/a-/AOh14Gju2mNh-CIUs6e_EgYdv7eWpyCq5RUtF0XfW0PgJUM=s64",
      "userId": "13011506269675720653"
     },
     "user_tz": -330
    },
    "hidden": true,
    "id": "bSDbxuSSH_9c",
    "outputId": "a23315d1-3aa5-477a-b898-ff4efd0cfc71"
   },
   "outputs": [
    {
     "name": "stdout",
     "output_type": "stream",
     "text": [
      "1 "
     ]
    }
   ],
   "source": [
    "llist.insertAtEnd(1)\n",
    "llist.printList()"
   ]
  },
  {
   "cell_type": "code",
   "execution_count": null,
   "metadata": {
    "colab": {
     "base_uri": "https://localhost:8080/"
    },
    "executionInfo": {
     "elapsed": 8,
     "status": "ok",
     "timestamp": 1621755016706,
     "user": {
      "displayName": "Sarthak Rastogi",
      "photoUrl": "https://lh3.googleusercontent.com/a-/AOh14Gju2mNh-CIUs6e_EgYdv7eWpyCq5RUtF0XfW0PgJUM=s64",
      "userId": "13011506269675720653"
     },
     "user_tz": -330
    },
    "hidden": true,
    "id": "hqztBplJITwE",
    "outputId": "da136443-7fcc-45a8-d67d-4b2a6770e4d2"
   },
   "outputs": [
    {
     "name": "stdout",
     "output_type": "stream",
     "text": [
      "2 1 "
     ]
    }
   ],
   "source": [
    "llist.insertAtBeginning(2)\n",
    "llist.printList()"
   ]
  },
  {
   "cell_type": "code",
   "execution_count": null,
   "metadata": {
    "colab": {
     "base_uri": "https://localhost:8080/"
    },
    "executionInfo": {
     "elapsed": 811,
     "status": "ok",
     "timestamp": 1621755169926,
     "user": {
      "displayName": "Sarthak Rastogi",
      "photoUrl": "https://lh3.googleusercontent.com/a-/AOh14Gju2mNh-CIUs6e_EgYdv7eWpyCq5RUtF0XfW0PgJUM=s64",
      "userId": "13011506269675720653"
     },
     "user_tz": -330
    },
    "hidden": true,
    "id": "Wmih3i95Icyp",
    "outputId": "36c28fc7-cfff-4a8e-bcb7-134afcb4e9a2"
   },
   "outputs": [
    {
     "name": "stdout",
     "output_type": "stream",
     "text": [
      "2 4 5 1 4 "
     ]
    }
   ],
   "source": [
    "llist.insertAfter(llist.head.next, 5)\n",
    "llist.printList()"
   ]
  },
  {
   "cell_type": "code",
   "execution_count": null,
   "metadata": {
    "hidden": true,
    "id": "HrWlUq8jOyR1"
   },
   "outputs": [],
   "source": [
    "class Node:\n",
    "    def __init__(self, value=None):\n",
    "        self.value = value\n",
    "        self.next = None\n",
    "\n",
    "class SinglyLinkedList:\n",
    "    def __init__(self):\n",
    "        self.head = None\n",
    "        self.tail = None\n",
    "        \n",
    "    def __iter__(self): #for iterating through the sll\n",
    "        node = self.head\n",
    "        while node:\n",
    "            yield node\n",
    "            node = node.next\n",
    "            \n",
    "    def insertSLL(self, value, location):\n",
    "        newNode = Node(value)\n",
    "        if self.head is None: #if the sll is emptu\n",
    "            self.head = newNode #the new node becomes the head\n",
    "            self.tail = newNode #and the tail\n",
    "\n",
    "        else: #if the sll is not empty\n",
    "            if location == 0: #if inserting at the beginning of the sll\n",
    "                newNode.next = self.head\n",
    "                self.head = newNode #newNode is the head now\n",
    "\n",
    "            elif location == 1: #if inserting at the end of the sll\n",
    "                newNode.next = None\n",
    "                self.tail.next = newNode\n",
    "                self.tail = newNode #newNode has become the tail\n",
    "\n",
    "            else: #if inserting anywhere in the middle of the sll\n",
    "                tempNode = self.head         # }\n",
    "                index = 0                    # }\n",
    "                while index < location - 1:  # }- to traverse the sll and get to the insertion location\n",
    "                    tempNode = tempNode.next # }\n",
    "                    index +=1                # }\n",
    "                nextNode = tempNode.next     # }\n",
    "                tempNode.next = newNode\n",
    "                newNode.next = nextNode\n",
    "\n",
    "    def traverseSLL(self):\n",
    "        if self.head is None: #if the sll is empty\n",
    "            print(\"The SLL is empty\")\n",
    "        else:\n",
    "            node = self.head\n",
    "            while node is not None:\n",
    "                print(node.value)\n",
    "                node = node.next\n",
    "                \n",
    "    def searchSLL(self, searchValue):\n",
    "        if self.head is None:\n",
    "            return \"The sll is empty\"\n",
    "        else:\n",
    "            node = self.head\n",
    "            while node is not None:\n",
    "                if node.value == searchValue:\n",
    "                    return str(node.value) + \"found\"\n",
    "                node = node.next\n",
    "            return \"Value not found in the sll.\"\n",
    "        \n",
    "        \n",
    "    def deleteNode(self, location):\n",
    "        if self.head is None:\n",
    "            print('The sll is emptu')\n",
    "        else:\n",
    "            if location == 0:\n",
    "                if self.head == self.tail:\n",
    "                    self.head = None\n",
    "                    self.tail = None\n",
    "                else:\n",
    "                    self.head = self.head.next\n",
    "            \n",
    "            elif location == 1:\n",
    "                if self.head == self.tail:\n",
    "                    self.head = None\n",
    "                    self.tail = None\n",
    "                else:\n",
    "                    node = self.head\n",
    "                    while node is not None:\n",
    "                        if node.next == self.tail:\n",
    "                            node = node.next\n",
    "                        node.next = None\n",
    "                        self.tail = node\n",
    "            else:\n",
    "                tempNode = self.head\n",
    "                index = 0\n",
    "                while index < location - 1:\n",
    "                    tempNode = tempNode.next\n",
    "                    index += 1\n",
    "                nextNode = tempNode.next\n",
    "                index += 1\n",
    "                tempNode.next = nextNode.next\n",
    "                \n",
    "    def deleteEntireSLL(self):\n",
    "        if self.head is None:\n",
    "            print(\"The SLL is emptu\")\n",
    "        else:\n",
    "            self.head = None\n",
    "            self.tail = None"
   ]
  },
  {
   "cell_type": "markdown",
   "metadata": {
    "heading_collapsed": true,
    "hidden": true,
    "id": "z5eUC8p_OyR1"
   },
   "source": [
    "### Creation"
   ]
  },
  {
   "cell_type": "code",
   "execution_count": null,
   "metadata": {
    "ExecuteTime": {
     "end_time": "2021-04-30T17:35:51.925604Z",
     "start_time": "2021-04-30T17:35:51.876353Z"
    },
    "hidden": true,
    "id": "ECxwr9ExOyR2"
   },
   "outputs": [],
   "source": [
    "class Node:\n",
    "    def __init__(self, value=None):\n",
    "        self.value = value\n",
    "        self.next = None\n",
    "\n",
    "class SinglyLinkedList:\n",
    "    def __init__(self):\n",
    "        self.head = None\n",
    "        self.tail = None\n",
    "        \n",
    "    def __iter__(self): #for iterating through the sll\n",
    "        node = self.head\n",
    "        while node:\n",
    "            yield node\n",
    "            node = node.next"
   ]
  },
  {
   "cell_type": "code",
   "execution_count": null,
   "metadata": {
    "ExecuteTime": {
     "end_time": "2021-04-30T15:12:08.272328Z",
     "start_time": "2021-04-30T15:12:08.247389Z"
    },
    "hidden": true,
    "id": "NERpelGLOyR2"
   },
   "outputs": [],
   "source": [
    "sll = SinglyLinkedList()\n",
    "node1 = Node(1)\n",
    "node2 = Node(2)"
   ]
  },
  {
   "cell_type": "code",
   "execution_count": null,
   "metadata": {
    "ExecuteTime": {
     "end_time": "2021-04-30T15:13:47.580683Z",
     "start_time": "2021-04-30T15:13:47.556683Z"
    },
    "hidden": true,
    "id": "0azqBrPOOyR2"
   },
   "outputs": [],
   "source": [
    "sll.head = node1\n",
    "sll.head.next = node2\n",
    "sll.tail = node2"
   ]
  },
  {
   "cell_type": "markdown",
   "metadata": {
    "hidden": true,
    "id": "PupkojSyOyR3"
   },
   "source": [
    "Time and space complexity: O(1)"
   ]
  },
  {
   "cell_type": "markdown",
   "metadata": {
    "heading_collapsed": true,
    "hidden": true,
    "id": "bpX-bQAxOyR3"
   },
   "source": [
    "### Insertion"
   ]
  },
  {
   "cell_type": "code",
   "execution_count": null,
   "metadata": {
    "ExecuteTime": {
     "end_time": "2021-05-01T04:29:28.433867Z",
     "start_time": "2021-05-01T04:29:28.394250Z"
    },
    "hidden": true,
    "id": "Mk521JBSOyR3"
   },
   "outputs": [],
   "source": [
    "    def insertSLL(self, value, location):\n",
    "        newNode = Node(value)\n",
    "        if self.head is None: #if the sll is emptu\n",
    "            self.head = newNode #the new node becomes the head\n",
    "            self.tail = newNode #and the tail\n",
    "\n",
    "        else: #if the sll is not empty\n",
    "            if location == 0: #if inserting at the beginning of the sll\n",
    "                newNode.next = self.head\n",
    "                self.head = newNode #newNode is the head now\n",
    "\n",
    "            elif location == 1: #if inserting at the end of the sll\n",
    "                newNode.next = None\n",
    "                self.tail.next = newNode\n",
    "                self.tail = newNode #newNode has become the tail\n",
    "\n",
    "            else: #if inserting anywhere in the middle of the sll\n",
    "                tempNode = self.head         # }\n",
    "                index = 0                    # }\n",
    "                while index < location - 1:  # }- to traverse the sll and get to the insertion location\n",
    "                    tempNode = tempNode.next # }\n",
    "                    index +=1                # }\n",
    "                nextNode = tempNode.next     # }\n",
    "                tempNode.next = newNode\n",
    "                newNode.next = nextNode"
   ]
  },
  {
   "cell_type": "code",
   "execution_count": null,
   "metadata": {
    "ExecuteTime": {
     "end_time": "2021-05-01T07:22:00.357475Z",
     "start_time": "2021-05-01T07:22:00.336514Z"
    },
    "hidden": true,
    "id": "c4ky26QoOyR4",
    "outputId": "d5c24b8d-1524-4028-914f-e374f56a623c"
   },
   "outputs": [
    {
     "name": "stdout",
     "output_type": "stream",
     "text": [
      "[1]\n"
     ]
    }
   ],
   "source": [
    "sll = SinglyLinkedList()\n",
    "sll.insertSLL(1, 0) #inserting 1 at the beginning of the sll\n",
    "print([node.value for node in sll])"
   ]
  },
  {
   "cell_type": "code",
   "execution_count": null,
   "metadata": {
    "ExecuteTime": {
     "end_time": "2021-05-01T07:22:00.625233Z",
     "start_time": "2021-05-01T07:22:00.611238Z"
    },
    "hidden": true,
    "id": "PEMr6bfmOyR4",
    "outputId": "d4fee529-13b7-4ad6-886b-4dc3a970ce58"
   },
   "outputs": [
    {
     "name": "stdout",
     "output_type": "stream",
     "text": [
      "[1, 2]\n"
     ]
    }
   ],
   "source": [
    "sll.insertSLL(2, 1) #inserting 2 at the end\n",
    "print([node.value for node in sll])"
   ]
  },
  {
   "cell_type": "code",
   "execution_count": null,
   "metadata": {
    "ExecuteTime": {
     "end_time": "2021-05-01T07:22:00.952007Z",
     "start_time": "2021-05-01T07:22:00.929006Z"
    },
    "hidden": true,
    "id": "ik0veew4OyR5",
    "outputId": "716fe4ea-fae3-4955-ce76-4d11151bc4ee"
   },
   "outputs": [
    {
     "name": "stdout",
     "output_type": "stream",
     "text": [
      "[1, 2, 3]\n"
     ]
    }
   ],
   "source": [
    "sll.insertSLL(3, 1)\n",
    "print([node.value for node in sll])"
   ]
  },
  {
   "cell_type": "code",
   "execution_count": null,
   "metadata": {
    "ExecuteTime": {
     "end_time": "2021-05-01T07:22:01.784670Z",
     "start_time": "2021-05-01T07:22:01.757674Z"
    },
    "hidden": true,
    "id": "n8zJSZUEOyR5",
    "outputId": "1662404a-3f7e-4071-bf54-ccfd91861237",
    "scrolled": true
   },
   "outputs": [
    {
     "name": "stdout",
     "output_type": "stream",
     "text": [
      "[1, 2, 2.5, 3]\n"
     ]
    }
   ],
   "source": [
    "sll.insertSLL(2.5, 2) #inserting in the middle\n",
    "print([node.value for node in sll])"
   ]
  },
  {
   "cell_type": "markdown",
   "metadata": {
    "hidden": true,
    "id": "XGTdOattOyR6"
   },
   "source": [
    "Time complexity: O(n)\n",
    "\n",
    "Space complexity: O(1)"
   ]
  },
  {
   "cell_type": "markdown",
   "metadata": {
    "heading_collapsed": true,
    "hidden": true,
    "id": "NXDgBT7HOyR6"
   },
   "source": [
    "### Traversal"
   ]
  },
  {
   "cell_type": "code",
   "execution_count": null,
   "metadata": {
    "ExecuteTime": {
     "end_time": "2021-05-01T05:27:45.483285Z",
     "start_time": "2021-05-01T05:27:45.433286Z"
    },
    "hidden": true,
    "id": "hx7q-zkoOyR6"
   },
   "outputs": [],
   "source": [
    "    def traverseSLL(self):\n",
    "        if self.head is None: #if the sll is empty\n",
    "            print(\"The SLL is empty\")\n",
    "        else:\n",
    "            node = self.head\n",
    "            while node is not None:\n",
    "                print(node.value)\n",
    "                node = node.next"
   ]
  },
  {
   "cell_type": "code",
   "execution_count": null,
   "metadata": {
    "ExecuteTime": {
     "end_time": "2021-05-01T05:28:23.328477Z",
     "start_time": "2021-05-01T05:28:23.300500Z"
    },
    "hidden": true,
    "id": "vq8xKk2mOyR7",
    "outputId": "931fef13-155e-4434-df3d-8fd937127cfc"
   },
   "outputs": [
    {
     "name": "stdout",
     "output_type": "stream",
     "text": [
      "1\n",
      "2\n",
      "2.5\n",
      "3\n"
     ]
    }
   ],
   "source": [
    "#sll = SinglyLinkedList()\n",
    "sll.traverseSLL()"
   ]
  },
  {
   "cell_type": "markdown",
   "metadata": {
    "hidden": true,
    "id": "KasM-C8tOyR7"
   },
   "source": [
    "Time complexity: O(n)\n",
    "\n",
    "Space complexity: O(1)"
   ]
  },
  {
   "cell_type": "markdown",
   "metadata": {
    "heading_collapsed": true,
    "hidden": true,
    "id": "_4ru6pPPOyR7"
   },
   "source": [
    "### Search"
   ]
  },
  {
   "cell_type": "code",
   "execution_count": null,
   "metadata": {
    "ExecuteTime": {
     "end_time": "2021-05-01T06:10:23.718315Z",
     "start_time": "2021-05-01T06:10:23.665309Z"
    },
    "hidden": true,
    "id": "4C_YWo8KOyR8"
   },
   "outputs": [],
   "source": [
    "    def searchSLL(self, searchValue):\n",
    "        if self.head is None:\n",
    "            return \"The sll is empty\"\n",
    "        else:\n",
    "            node = self.head\n",
    "            while node is not None:\n",
    "                if node.value == searchValue:\n",
    "                    return str(node.value) + \"found\"\n",
    "                node = node.next\n",
    "            return \"Value not found in the sll.\""
   ]
  },
  {
   "cell_type": "code",
   "execution_count": null,
   "metadata": {
    "ExecuteTime": {
     "end_time": "2021-05-01T06:11:25.218738Z",
     "start_time": "2021-05-01T06:11:25.191736Z"
    },
    "hidden": true,
    "id": "saA3BvZcOyR8",
    "outputId": "1196c573-9a3e-4673-93d9-2416095aab8d"
   },
   "outputs": [
    {
     "data": {
      "text/plain": [
       "2.5"
      ]
     },
     "execution_count": 47,
     "metadata": {
      "tags": []
     },
     "output_type": "execute_result"
    }
   ],
   "source": [
    "#sll = SinglyLinkedList()\n",
    "sll.searchSLL(2.5)"
   ]
  },
  {
   "cell_type": "markdown",
   "metadata": {
    "hidden": true,
    "id": "hd91_PmgOyR9"
   },
   "source": [
    "Time complexity: O(n)\n",
    "\n",
    "Space complexity: O(1)"
   ]
  },
  {
   "cell_type": "markdown",
   "metadata": {
    "heading_collapsed": true,
    "hidden": true,
    "id": "h8y7X-g-OyR9"
   },
   "source": [
    "### Deletion of nodes"
   ]
  },
  {
   "cell_type": "code",
   "execution_count": null,
   "metadata": {
    "ExecuteTime": {
     "end_time": "2021-05-01T06:42:13.854583Z",
     "start_time": "2021-05-01T06:42:13.798408Z"
    },
    "hidden": true,
    "id": "IkNrbzk3OyR9"
   },
   "outputs": [],
   "source": [
    "    def deleteNode(self, location):\n",
    "        if self.head is None:\n",
    "            print('The sll is emptu')\n",
    "        else:\n",
    "            if location == 0:\n",
    "                if self.head == self.tail:\n",
    "                    self.head = None\n",
    "                    self.tail = None\n",
    "                else:\n",
    "                    self.head = self.head.next\n",
    "            \n",
    "            elif location == 1:\n",
    "                if self.head == self.tail:\n",
    "                    self.head = None\n",
    "                    self.tail = None\n",
    "                else:\n",
    "                    node = self.head\n",
    "                    while node is not None:\n",
    "                        if node.next == self.tail:\n",
    "                            node = node.next\n",
    "                        node.next = None\n",
    "                        self.tail = node\n",
    "            else:\n",
    "                tempNode = self.head\n",
    "                index = 0\n",
    "                while index < location - 1:\n",
    "                    tempNode = tempNode.next\n",
    "                    index += 1\n",
    "                nextNode = tempNode.next\n",
    "                index += 1\n",
    "                tempNode.next = nextNode.next"
   ]
  },
  {
   "cell_type": "code",
   "execution_count": null,
   "metadata": {
    "ExecuteTime": {
     "end_time": "2021-05-01T06:42:25.964780Z",
     "start_time": "2021-05-01T06:42:25.943784Z"
    },
    "hidden": true,
    "id": "_k8alpqIOyR-",
    "outputId": "d257ebdd-fd24-4447-9533-927a415ac5d5",
    "scrolled": true
   },
   "outputs": [
    {
     "name": "stdout",
     "output_type": "stream",
     "text": [
      "[2, 2.5, 3]\n"
     ]
    }
   ],
   "source": [
    "sll.deleteNode(0)\n",
    "print([node.value for node in sll])"
   ]
  },
  {
   "cell_type": "markdown",
   "metadata": {
    "hidden": true,
    "id": "gwL8mIFrOyR-"
   },
   "source": [
    "Time complexity: O(n)\n",
    "\n",
    "Space complexity: O(1)"
   ]
  },
  {
   "cell_type": "markdown",
   "metadata": {
    "heading_collapsed": true,
    "hidden": true,
    "id": "u0NOKdW0OyR_"
   },
   "source": [
    "### Deletion of the entire SLL"
   ]
  },
  {
   "cell_type": "code",
   "execution_count": null,
   "metadata": {
    "ExecuteTime": {
     "end_time": "2021-05-01T07:47:24.258769Z",
     "start_time": "2021-05-01T07:47:24.247774Z"
    },
    "hidden": true,
    "id": "z0b0sxnQOySA"
   },
   "outputs": [],
   "source": [
    "    def deleteEntireSLL(self):\n",
    "        if self.head is None:\n",
    "            print(\"The SLL is emptu\")\n",
    "        else:\n",
    "            self.head = None\n",
    "            self.tail = None"
   ]
  },
  {
   "cell_type": "code",
   "execution_count": null,
   "metadata": {
    "ExecuteTime": {
     "end_time": "2021-05-01T07:22:52.817147Z",
     "start_time": "2021-05-01T07:22:52.778129Z"
    },
    "hidden": true,
    "id": "uH-BNz2_OySA",
    "outputId": "a6a2c19f-cae7-4300-e3bf-3c23a1b8cb9d",
    "scrolled": false
   },
   "outputs": [
    {
     "ename": "AttributeError",
     "evalue": "'SinglyLinkedList' object has no attribute 'deleteEntireSLLL'",
     "output_type": "error",
     "traceback": [
      "\u001b[1;31m---------------------------------------------------------------------------\u001b[0m",
      "\u001b[1;31mAttributeError\u001b[0m                            Traceback (most recent call last)",
      "\u001b[1;32m<ipython-input-73-8cc90746ebe9>\u001b[0m in \u001b[0;36m<module>\u001b[1;34m\u001b[0m\n\u001b[0;32m      1\u001b[0m \u001b[0msll\u001b[0m \u001b[1;33m=\u001b[0m \u001b[0mSinglyLinkedList\u001b[0m\u001b[1;33m(\u001b[0m\u001b[1;33m)\u001b[0m\u001b[1;33m\u001b[0m\u001b[1;33m\u001b[0m\u001b[0m\n\u001b[1;32m----> 2\u001b[1;33m \u001b[0msll\u001b[0m\u001b[1;33m.\u001b[0m\u001b[0mdeleteEntireSLLL\u001b[0m\u001b[1;33m(\u001b[0m\u001b[1;33m)\u001b[0m\u001b[1;33m\u001b[0m\u001b[1;33m\u001b[0m\u001b[0m\n\u001b[0m\u001b[0;32m      3\u001b[0m \u001b[0mprint\u001b[0m\u001b[1;33m(\u001b[0m\u001b[1;33m[\u001b[0m\u001b[0mnode\u001b[0m\u001b[1;33m.\u001b[0m\u001b[0mvalue\u001b[0m \u001b[1;32mfor\u001b[0m \u001b[0mnode\u001b[0m \u001b[1;32min\u001b[0m \u001b[0msll\u001b[0m\u001b[1;33m]\u001b[0m\u001b[1;33m)\u001b[0m\u001b[1;33m\u001b[0m\u001b[1;33m\u001b[0m\u001b[0m\n",
      "\u001b[1;31mAttributeError\u001b[0m: 'SinglyLinkedList' object has no attribute 'deleteEntireSLLL'"
     ]
    }
   ],
   "source": [
    "sll = SinglyLinkedList()\n",
    "sll.deleteEntireSLLL()\n",
    "print([node.value for node in sll])"
   ]
  },
  {
   "cell_type": "markdown",
   "metadata": {
    "hidden": true,
    "id": "XcFrGrvPOySA"
   },
   "source": [
    "Time and space complexity: O(1)"
   ]
  },
  {
   "cell_type": "markdown",
   "metadata": {
    "hidden": true,
    "id": "OoBxjurxOySB"
   },
   "source": [
    "## Circular Singly Linked List"
   ]
  },
  {
   "cell_type": "code",
   "execution_count": null,
   "metadata": {
    "ExecuteTime": {
     "end_time": "2021-05-01T11:02:20.983835Z",
     "start_time": "2021-05-01T11:02:20.944839Z"
    },
    "hidden": true,
    "id": "hfGfDwPoOySC"
   },
   "outputs": [],
   "source": [
    "class Node:\n",
    "    def __init__(self, value=None):\n",
    "        self.value = value\n",
    "        self.node = None\n",
    "        \n",
    "class CircularSinglyLinkedList:\n",
    "    def __init__(self):\n",
    "        self.head = None\n",
    "        self.tail = None\n",
    "        \n",
    "    def __iter__(self):\n",
    "        node = self.head\n",
    "        while node:\n",
    "            yield node\n",
    "            if node.next == self.head:\n",
    "                break\n",
    "            node = node.next\n",
    "            \n",
    "    def createCSLL(self, nodeValue):\n",
    "        node = Node(nodeValue)\n",
    "        node.next = node\n",
    "        self.head = node\n",
    "        self.tail = node\n",
    "        return \"CSLL created.\"\n",
    "    \n",
    "    def insertCSLL(self, value, location):\n",
    "        if self.head is None:\n",
    "            return \"The head reference is None\"\n",
    "        else:\n",
    "            newNode = Node(value)\n",
    "            if location == 0:\n",
    "                newNode.next = self.head\n",
    "                self.head = newNode\n",
    "                self.tail.next = newNode\n",
    "            elif location == 1:\n",
    "                newNode.next = self.tail.next\n",
    "                self.tail.next = newNode\n",
    "                self.tail = newNode\n",
    "            else:\n",
    "                tempNode = self.head\n",
    "                index = 0\n",
    "                while index < location - 1:\n",
    "                    tempNode = tempNode.next\n",
    "                    index +=1\n",
    "                nextNode = tempNode.next\n",
    "                tempNode.next = newNode\n",
    "                newNode.next = nextNode\n",
    "            return \"Node inserted\"\n",
    "    \n",
    "    def traverseCSLL(self):\n",
    "        if self.head is None:\n",
    "            \n",
    "    "
   ]
  },
  {
   "cell_type": "markdown",
   "metadata": {
    "hidden": true,
    "id": "HfSruoXROySC"
   },
   "source": [
    "### Creation"
   ]
  },
  {
   "cell_type": "code",
   "execution_count": null,
   "metadata": {
    "hidden": true,
    "id": "RTAdqgRvOySC"
   },
   "outputs": [],
   "source": [
    "    def createCSLL(self, nodeValue):\n",
    "        node = Node(nodeValue)\n",
    "        node.next = node\n",
    "        self.head = node\n",
    "        self.tail = node\n",
    "        return \"CSLL created.\""
   ]
  },
  {
   "cell_type": "code",
   "execution_count": null,
   "metadata": {
    "ExecuteTime": {
     "end_time": "2021-05-01T11:02:22.795648Z",
     "start_time": "2021-05-01T11:02:22.777181Z"
    },
    "hidden": true,
    "id": "srPH-Q3JOySD",
    "outputId": "2aca6790-9347-4986-dcfe-d787eeb8f480"
   },
   "outputs": [
    {
     "name": "stdout",
     "output_type": "stream",
     "text": [
      "[1]\n"
     ]
    }
   ],
   "source": [
    "csll = CircularSinglyLinkedList()\n",
    "csll.createCSLL(1)\n",
    "print([node.value for node in csll])"
   ]
  },
  {
   "cell_type": "markdown",
   "metadata": {
    "hidden": true,
    "id": "AW9jIx_eOySD"
   },
   "source": [
    "Time and space complexity: O(1)"
   ]
  },
  {
   "cell_type": "markdown",
   "metadata": {
    "ExecuteTime": {
     "end_time": "2021-05-01T08:04:40.294374Z",
     "start_time": "2021-05-01T08:04:40.277444Z"
    },
    "hidden": true,
    "id": "dSI6qWVHOySD"
   },
   "source": [
    "### Insertion"
   ]
  },
  {
   "cell_type": "code",
   "execution_count": null,
   "metadata": {
    "hidden": true,
    "id": "3rMZ3PQZOySE"
   },
   "outputs": [],
   "source": [
    "    def insertCSLL(self, value, location):\n",
    "        if self.head is None:\n",
    "            return \"The head reference is None\"\n",
    "        else:\n",
    "            newNode = Node(value)\n",
    "            if location == 0:\n",
    "                newNode.next = self.head\n",
    "                self.head = newNode\n",
    "                self.tail.next = newNode\n",
    "            elif location == 1:\n",
    "                newNode.next = self.tail.next\n",
    "                self.tail.next = newNode\n",
    "                self.tail = newNode\n",
    "            else:\n",
    "                tempNode = self.head\n",
    "                index = 0\n",
    "                while index < location - 1:\n",
    "                    tempNode = tempNode.next\n",
    "                    index +=1\n",
    "                nextNode = tempNode.next\n",
    "                tempNode.next = newNode\n",
    "                newNode.next = nextNode\n",
    "            return \"Node inserted\""
   ]
  },
  {
   "cell_type": "code",
   "execution_count": null,
   "metadata": {
    "ExecuteTime": {
     "end_time": "2021-05-01T11:02:23.891506Z",
     "start_time": "2021-05-01T11:02:23.866559Z"
    },
    "hidden": true,
    "id": "RlafM-6bOySE",
    "outputId": "f7086626-9d2c-4969-b596-f43d266b6004"
   },
   "outputs": [
    {
     "name": "stdout",
     "output_type": "stream",
     "text": [
      "[1, 2]\n"
     ]
    }
   ],
   "source": [
    "csll.insertCSLL(2, 1)\n",
    "print([node.value for node in csll])"
   ]
  },
  {
   "cell_type": "markdown",
   "metadata": {
    "hidden": true,
    "id": "cBWls-0YOySE"
   },
   "source": [
    "Time complexity: O(n)\n",
    "\n",
    "Space complexity: O(1)"
   ]
  },
  {
   "cell_type": "markdown",
   "metadata": {
    "hidden": true,
    "id": "nmHhI7vqOySF"
   },
   "source": [
    "### Traversal"
   ]
  },
  {
   "cell_type": "code",
   "execution_count": null,
   "metadata": {
    "hidden": true,
    "id": "l5n1qBC1OySF"
   },
   "outputs": [],
   "source": []
  },
  {
   "cell_type": "code",
   "execution_count": null,
   "metadata": {
    "hidden": true,
    "id": "_nIV7A2oOySF"
   },
   "outputs": [],
   "source": []
  },
  {
   "cell_type": "markdown",
   "metadata": {
    "hidden": true,
    "id": "IdKCQkeIOySF"
   },
   "source": [
    "## Doubly Linked List"
   ]
  },
  {
   "cell_type": "markdown",
   "metadata": {
    "hidden": true,
    "id": "-XsRFVwVOySG"
   },
   "source": [
    "## Circular Doubly Linked List"
   ]
  },
  {
   "cell_type": "code",
   "execution_count": null,
   "metadata": {
    "hidden": true,
    "id": "tgke62Y2OySG"
   },
   "outputs": [],
   "source": []
  },
  {
   "cell_type": "markdown",
   "metadata": {
    "id": "mIg_-xK_M47j"
   },
   "source": [
    "# Trees"
   ]
  },
  {
   "cell_type": "markdown",
   "metadata": {
    "id": "t2EwKMeUSz0b"
   },
   "source": [
    "##Tree Traversal"
   ]
  },
  {
   "cell_type": "code",
   "execution_count": null,
   "metadata": {
    "id": "8XUjhA6jqBlL"
   },
   "outputs": [],
   "source": [
    "class Node:\n",
    "  def __init__(self, item):\n",
    "    self.val = item\n",
    "    self.left = None\n",
    "    self.right = None"
   ]
  },
  {
   "cell_type": "code",
   "execution_count": null,
   "metadata": {
    "id": "-x-zqKL1tnXm"
   },
   "outputs": [],
   "source": [
    "  def inorder(root):\n",
    "    if root:\n",
    "      inorder(root.left) #traverse left\n",
    "      print(str(root.val) + \"->\", end=\"\") #traverse root\n",
    "      inorder(root.right) #traverse right\n",
    "\n",
    "  def postorder(root):\n",
    "    if root:\n",
    "      postorder(root.left) #traverse left\n",
    "      postorder(root.right) #traverse right\n",
    "      print(str(root.val) + \"->\", end=\"\") #traverse root\n",
    "\n",
    "  def preorder(root):\n",
    "    if root:\n",
    "      print(str(root.val) + \"->\", end=\"\") #traverse root\n",
    "      preorder(root.left) #traverse left\n",
    "      preorder(root.right) #traverse right\n",
    "      "
   ]
  },
  {
   "cell_type": "code",
   "execution_count": null,
   "metadata": {
    "id": "4WmOH3nitGUV"
   },
   "outputs": [],
   "source": [
    "root = Node(1)"
   ]
  },
  {
   "cell_type": "code",
   "execution_count": null,
   "metadata": {
    "id": "nFtLw42StMwM"
   },
   "outputs": [],
   "source": [
    "root.left = Node(2)\n",
    "root.right = Node(3)\n",
    "root.left.left = Node(4)\n",
    "root.left.right = Node(5)"
   ]
  },
  {
   "cell_type": "code",
   "execution_count": null,
   "metadata": {
    "colab": {
     "base_uri": "https://localhost:8080/"
    },
    "executionInfo": {
     "elapsed": 19,
     "status": "ok",
     "timestamp": 1621764805657,
     "user": {
      "displayName": "Sarthak Rastogi",
      "photoUrl": "https://lh3.googleusercontent.com/a-/AOh14Gju2mNh-CIUs6e_EgYdv7eWpyCq5RUtF0XfW0PgJUM=s64",
      "userId": "13011506269675720653"
     },
     "user_tz": -330
    },
    "id": "v9jrIs1NtY0g",
    "outputId": "682cff31-7f64-4505-8840-fb24fa9ada4f"
   },
   "outputs": [
    {
     "name": "stdout",
     "output_type": "stream",
     "text": [
      "4->2->5->1->3->"
     ]
    }
   ],
   "source": [
    "inorder(root)"
   ]
  },
  {
   "cell_type": "code",
   "execution_count": null,
   "metadata": {
    "colab": {
     "base_uri": "https://localhost:8080/"
    },
    "executionInfo": {
     "elapsed": 699,
     "status": "ok",
     "timestamp": 1621764825344,
     "user": {
      "displayName": "Sarthak Rastogi",
      "photoUrl": "https://lh3.googleusercontent.com/a-/AOh14Gju2mNh-CIUs6e_EgYdv7eWpyCq5RUtF0XfW0PgJUM=s64",
      "userId": "13011506269675720653"
     },
     "user_tz": -330
    },
    "id": "vBh4PSb0tcwx",
    "outputId": "aef1eaa0-4a18-456a-e2c3-1633d47260d6"
   },
   "outputs": [
    {
     "name": "stdout",
     "output_type": "stream",
     "text": [
      "1->2->4->5->3->"
     ]
    }
   ],
   "source": [
    "preorder(root)"
   ]
  },
  {
   "cell_type": "code",
   "execution_count": null,
   "metadata": {
    "colab": {
     "base_uri": "https://localhost:8080/"
    },
    "executionInfo": {
     "elapsed": 5,
     "status": "ok",
     "timestamp": 1621764830369,
     "user": {
      "displayName": "Sarthak Rastogi",
      "photoUrl": "https://lh3.googleusercontent.com/a-/AOh14Gju2mNh-CIUs6e_EgYdv7eWpyCq5RUtF0XfW0PgJUM=s64",
      "userId": "13011506269675720653"
     },
     "user_tz": -330
    },
    "id": "zT8hxCDut06B",
    "outputId": "404b286d-4cc0-4fd8-9ba3-c1cd26397e9e"
   },
   "outputs": [
    {
     "name": "stdout",
     "output_type": "stream",
     "text": [
      "4->5->2->3->1->"
     ]
    }
   ],
   "source": [
    "postorder(root)"
   ]
  },
  {
   "cell_type": "markdown",
   "metadata": {
    "id": "w572nIAayUcf"
   },
   "source": [
    "Checking if a tree is a full/proper binary tree"
   ]
  },
  {
   "cell_type": "code",
   "execution_count": null,
   "metadata": {
    "id": "xcSkUFsFt1-o"
   },
   "outputs": [],
   "source": [
    "def isFullTree(root):\n",
    "  if root is None: #empty tree\n",
    "    return True\n",
    "  \n",
    "  if root.left is None and root.right is None:\n",
    "    return True\n",
    "\n",
    "  if root.left is not None and root.right is not None:\n",
    "    return (isFullTree(root.left) and isFullTree(root.right))\n",
    "\n",
    "  return False"
   ]
  },
  {
   "cell_type": "code",
   "execution_count": null,
   "metadata": {
    "colab": {
     "base_uri": "https://localhost:8080/"
    },
    "executionInfo": {
     "elapsed": 2548,
     "status": "ok",
     "timestamp": 1621766238531,
     "user": {
      "displayName": "Sarthak Rastogi",
      "photoUrl": "https://lh3.googleusercontent.com/a-/AOh14Gju2mNh-CIUs6e_EgYdv7eWpyCq5RUtF0XfW0PgJUM=s64",
      "userId": "13011506269675720653"
     },
     "user_tz": -330
    },
    "id": "Y1-buXSizIuP",
    "outputId": "a6aaa27d-4806-42a8-91b6-7c259963d896"
   },
   "outputs": [
    {
     "data": {
      "text/plain": [
       "True"
      ]
     },
     "execution_count": 14,
     "metadata": {
      "tags": []
     },
     "output_type": "execute_result"
    }
   ],
   "source": [
    "isFullTree(root)"
   ]
  },
  {
   "cell_type": "markdown",
   "metadata": {
    "id": "fiE-xPEW0TL8"
   },
   "source": [
    "Checking if a tree is a perfect binary tree"
   ]
  },
  {
   "cell_type": "code",
   "execution_count": null,
   "metadata": {
    "id": "1IjVBMl1zK70"
   },
   "outputs": [],
   "source": [
    "def calculateDepth(node):\n",
    "  d = 0\n",
    "  while (node is not None):\n",
    "    d+=1\n",
    "    node = node.left\n",
    "  return d"
   ]
  },
  {
   "cell_type": "code",
   "execution_count": null,
   "metadata": {
    "id": "KqQGV4Y81I0-"
   },
   "outputs": [],
   "source": [
    "def isPerfect(root, d, level=0):\n",
    "  if (root is None): #the tree is empty\n",
    "    return True\n",
    "\n",
    "  if (root.left is None and root.right is None):\n",
    "    return (d == level + 1)\n",
    "\n",
    "  if (root.left is None or root.right is None):\n",
    "    return False\n",
    "\n",
    "  return (isPerfect(root.left, d, level+1) and isPerfect(root.right, d, level + 1))\n"
   ]
  },
  {
   "cell_type": "code",
   "execution_count": null,
   "metadata": {
    "colab": {
     "base_uri": "https://localhost:8080/"
    },
    "executionInfo": {
     "elapsed": 498,
     "status": "ok",
     "timestamp": 1621767240978,
     "user": {
      "displayName": "Sarthak Rastogi",
      "photoUrl": "https://lh3.googleusercontent.com/a-/AOh14Gju2mNh-CIUs6e_EgYdv7eWpyCq5RUtF0XfW0PgJUM=s64",
      "userId": "13011506269675720653"
     },
     "user_tz": -330
    },
    "id": "2m2_lZQi2EFZ",
    "outputId": "3e712f15-6f9e-4ef3-b747-a1b94e64cf25"
   },
   "outputs": [
    {
     "data": {
      "text/plain": [
       "False"
      ]
     },
     "execution_count": 23,
     "metadata": {
      "tags": []
     },
     "output_type": "execute_result"
    }
   ],
   "source": [
    "isPerfect(root, calculateDepth(root))"
   ]
  },
  {
   "cell_type": "markdown",
   "metadata": {
    "id": "Gf2B-Acv3VE2"
   },
   "source": [
    "Check if a tree is a complete binary tree"
   ]
  },
  {
   "cell_type": "code",
   "execution_count": null,
   "metadata": {
    "id": "MA-60Hcq38Mo"
   },
   "outputs": [],
   "source": [
    "def countNodes(root):\n",
    "  if root is None:\n",
    "    return 0\n",
    "  return (1 + countNodes(root.left) + countNodes(root.right))"
   ]
  },
  {
   "cell_type": "code",
   "execution_count": null,
   "metadata": {
    "id": "s-v2J3VC2Jgz"
   },
   "outputs": [],
   "source": [
    "def isComplete(root, index, numberNodes):\n",
    "  if root is None: #empty tree\n",
    "    return True\n",
    "\n",
    "  if index >= numberNodes:\n",
    "    return False\n",
    "\n",
    "  return (isComplete(root.left, 2*index + 1, numberNodes) and isComplete(root.right, 2*index + 2, numberNodes))"
   ]
  },
  {
   "cell_type": "code",
   "execution_count": null,
   "metadata": {
    "id": "Vfcz2Fwx4Q0s"
   },
   "outputs": [],
   "source": [
    "nodeCount = countNodes(root)\n",
    "index = 0"
   ]
  },
  {
   "cell_type": "code",
   "execution_count": null,
   "metadata": {
    "colab": {
     "base_uri": "https://localhost:8080/"
    },
    "executionInfo": {
     "elapsed": 3026,
     "status": "ok",
     "timestamp": 1621767588478,
     "user": {
      "displayName": "Sarthak Rastogi",
      "photoUrl": "https://lh3.googleusercontent.com/a-/AOh14Gju2mNh-CIUs6e_EgYdv7eWpyCq5RUtF0XfW0PgJUM=s64",
      "userId": "13011506269675720653"
     },
     "user_tz": -330
    },
    "id": "brHtmNsY329T",
    "outputId": "b15e2a48-c538-4bca-9399-e319f795f5bc"
   },
   "outputs": [
    {
     "data": {
      "text/plain": [
       "True"
      ]
     },
     "execution_count": 28,
     "metadata": {
      "tags": []
     },
     "output_type": "execute_result"
    }
   ],
   "source": [
    "isComplete(root, index, nodeCount)"
   ]
  },
  {
   "cell_type": "markdown",
   "metadata": {
    "id": "rF1CRXK3a9dU"
   },
   "source": [
    "Checking if a binary tree is balanced"
   ]
  },
  {
   "cell_type": "code",
   "execution_count": null,
   "metadata": {
    "id": "G87_BQfB4XFj"
   },
   "outputs": [],
   "source": [
    "class CalculateHeight:\n",
    "  def __init__(self):\n",
    "    self.CalculateHeight = 0"
   ]
  },
  {
   "cell_type": "code",
   "execution_count": null,
   "metadata": {
    "id": "oX40XQttbNxf"
   },
   "outputs": [],
   "source": [
    "def is_height_balanced(root, CalculateHeight):\n",
    "\n",
    "    left_height = CalculateHeight()\n",
    "    right_height = CalculateHeight()\n",
    "\n",
    "    if root is None:\n",
    "        return True\n",
    "\n",
    "    l = is_height_balanced(root.left, left_height)\n",
    "    r = is_height_balanced(root.right, right_height)\n",
    "\n",
    "    CalculateHeight.CalculateHeight = max(\n",
    "        left_height.CalculateHeight, right_height.CalculateHeight) + 1\n",
    "\n",
    "    if abs(left_height.CalculateHeight - right_height.CalculateHeight) <= 1:\n",
    "        return l and r\n",
    "\n",
    "    return False\n",
    "\n",
    "\n",
    "CalculateHeight = CalculateHeight()\n",
    "\n",
    "root = CreateNode(1)\n",
    "root.left = CreateNode(2)\n",
    "root.right = CreateNode(3)\n",
    "root.left.left = CreateNode(4)\n",
    "root.left.right = CreateNode(5)\n",
    "\n",
    "is_height_balanced(root, CalculateHeight)"
   ]
  },
  {
   "cell_type": "markdown",
   "metadata": {
    "id": "Gmq0TJJsq0FC"
   },
   "source": [
    "##Binary Search Tree"
   ]
  },
  {
   "cell_type": "markdown",
   "metadata": {
    "id": "nbNOEEqnB_yg"
   },
   "source": [
    "Node insertion"
   ]
  },
  {
   "cell_type": "code",
   "execution_count": null,
   "metadata": {
    "id": "TsVG3qxZCxZ7"
   },
   "outputs": [],
   "source": [
    "class Node:\n",
    "  def __init__(self, key):\n",
    "    self.key = key\n",
    "    self.left = None\n",
    "    self.right = None"
   ]
  },
  {
   "cell_type": "code",
   "execution_count": null,
   "metadata": {
    "id": "A3gPuxNeCHpc"
   },
   "outputs": [],
   "source": [
    "def insert(node, key):\n",
    "  if node is None: #empty tree\n",
    "    return Node(key)\n",
    "\n",
    "  if key < node.key:\n",
    "    node.left = insert(node.left, key)\n",
    "  else:\n",
    "    node.right = insert(node.right, key)\n",
    "  return node"
   ]
  },
  {
   "cell_type": "markdown",
   "metadata": {
    "id": "hCg_aDD0DmuG"
   },
   "source": [
    "Deleting a node"
   ]
  },
  {
   "cell_type": "code",
   "execution_count": null,
   "metadata": {
    "id": "L8mweP-sDJqC"
   },
   "outputs": [],
   "source": [
    "#Finding the inorder successor\n",
    "def minValueNode(node):\n",
    "  current = node\n",
    "  \n",
    "  #finding the leftmost leaf\n",
    "  while(current.left is not None):\n",
    "    current = current.left\n",
    "\n",
    "  return current"
   ]
  },
  {
   "cell_type": "code",
   "execution_count": null,
   "metadata": {
    "id": "0fts3z-qDJbh"
   },
   "outputs": [],
   "source": [
    "def deleteNode(root, key):\n",
    "  if root is None: #empty tree\n",
    "    return root \n",
    "\n",
    "  if key < root.key:\n",
    "    root.left = deleteNode(root.left, key)\n",
    "\n",
    "  elif key > root.key:\n",
    "    root.right = deleteNode(root.right, key)\n",
    "\n",
    "  else:\n",
    "    #if the node has no children or only one child\n",
    "    if root.left is None:\n",
    "      temp = root.right\n",
    "      root = None\n",
    "      return temp\n",
    "\n",
    "    elif root.right is None:\n",
    "      temp = root.left\n",
    "      root = None\n",
    "      return temp\n",
    "\n",
    "    #if the node has two children\n",
    "    #place the inorder successor in position of the node to be deleted\n",
    "    temp = minValueNode(root.right)\n",
    "    root.key = temp.key\n",
    "    root.right = deleteNode(root.right, temp.key) #delete the inorder successor\n",
    "\n",
    "  return root "
   ]
  },
  {
   "cell_type": "code",
   "execution_count": null,
   "metadata": {
    "id": "z3szWFNQH6CJ"
   },
   "outputs": [],
   "source": [
    "def inorder(root):\n",
    "    if root is not None:\n",
    "        # Traverse left\n",
    "        inorder(root.left)\n",
    "\n",
    "        # Traverse root\n",
    "        print(str(root.key) + \"->\", end=' ')\n",
    "\n",
    "        # Traverse right\n",
    "        inorder(root.right)"
   ]
  },
  {
   "cell_type": "code",
   "execution_count": null,
   "metadata": {
    "id": "uzN6hHV1HfFI"
   },
   "outputs": [],
   "source": [
    "root = None\n",
    "root = insert(root, 8)\n",
    "root = insert(root, 3)\n",
    "root = insert(root, 1)\n",
    "root = insert(root, 6)\n",
    "root = insert(root, 7)\n",
    "root = insert(root, 10)\n",
    "root = insert(root, 14)\n",
    "root = insert(root, 4)"
   ]
  },
  {
   "cell_type": "code",
   "execution_count": null,
   "metadata": {
    "colab": {
     "base_uri": "https://localhost:8080/"
    },
    "executionInfo": {
     "elapsed": 12,
     "status": "ok",
     "timestamp": 1621922656322,
     "user": {
      "displayName": "Sarthak Rastogi",
      "photoUrl": "https://lh3.googleusercontent.com/a-/AOh14Gju2mNh-CIUs6e_EgYdv7eWpyCq5RUtF0XfW0PgJUM=s64",
      "userId": "13011506269675720653"
     },
     "user_tz": -330
    },
    "id": "t0K6K40UHe3X",
    "outputId": "00ad9ca3-fb22-4dff-fb76-a795d7180806"
   },
   "outputs": [
    {
     "name": "stdout",
     "output_type": "stream",
     "text": [
      "1-> 3-> 4-> 6-> 7-> 8-> 10-> 14-> "
     ]
    }
   ],
   "source": [
    "inorder(root)"
   ]
  },
  {
   "cell_type": "code",
   "execution_count": null,
   "metadata": {
    "id": "gHpziP8mHezb"
   },
   "outputs": [],
   "source": [
    "root = deleteNode(root, 10)"
   ]
  },
  {
   "cell_type": "markdown",
   "metadata": {
    "id": "HS-1hiY-ZOET"
   },
   "source": [
    "##AVL Tree\n"
   ]
  },
  {
   "cell_type": "code",
   "execution_count": 18,
   "metadata": {
    "executionInfo": {
     "elapsed": 1686,
     "status": "ok",
     "timestamp": 1621930048340,
     "user": {
      "displayName": "Sarthak Rastogi",
      "photoUrl": "https://lh3.googleusercontent.com/a-/AOh14Gju2mNh-CIUs6e_EgYdv7eWpyCq5RUtF0XfW0PgJUM=s64",
      "userId": "13011506269675720653"
     },
     "user_tz": -330
    },
    "id": "wK4UcT6hZQGl"
   },
   "outputs": [],
   "source": [
    "class TreeNode(object):\n",
    "  def __init__(self, key):\n",
    "    self.key = key\n",
    "    self.left = None\n",
    "    self.right = None\n",
    "    self.height = 1"
   ]
  },
  {
   "cell_type": "code",
   "execution_count": null,
   "metadata": {
    "id": "-B8WYUYQZQD5"
   },
   "outputs": [],
   "source": [
    "class AVLTree(object):\n",
    "  def i"
   ]
  },
  {
   "cell_type": "code",
   "execution_count": null,
   "metadata": {
    "id": "5wruLmdqZQBT"
   },
   "outputs": [],
   "source": []
  },
  {
   "cell_type": "code",
   "execution_count": null,
   "metadata": {
    "id": "CjQ0_m_fZP8f"
   },
   "outputs": [],
   "source": []
  },
  {
   "cell_type": "code",
   "execution_count": null,
   "metadata": {
    "id": "n_Jlh1-GqDx7"
   },
   "outputs": [],
   "source": [
    "class Node:\n",
    "  def __init__(self, item):\n",
    "    self.val = item\n",
    "    self.left = None\n",
    "    self.right = None"
   ]
  },
  {
   "cell_type": "code",
   "execution_count": null,
   "metadata": {
    "id": "TLOME09gB7we"
   },
   "outputs": [],
   "source": []
  }
 ],
 "metadata": {
  "colab": {
   "collapsed_sections": [
    "z5eUC8p_OyR1",
    "bpX-bQAxOyR3",
    "NXDgBT7HOyR6",
    "_4ru6pPPOyR7",
    "h8y7X-g-OyR9",
    "u0NOKdW0OyR_",
    "HfSruoXROySC",
    "dSI6qWVHOySD",
    "nmHhI7vqOySF"
   ],
   "name": "Data Structures and Algorithms.ipynb",
   "provenance": []
  },
  "kernelspec": {
   "display_name": "Python 3",
   "language": "python",
   "name": "python3"
  },
  "language_info": {
   "codemirror_mode": {
    "name": "ipython",
    "version": 3
   },
   "file_extension": ".py",
   "mimetype": "text/x-python",
   "name": "python",
   "nbconvert_exporter": "python",
   "pygments_lexer": "ipython3",
   "version": "3.8.5"
  }
 },
 "nbformat": 4,
 "nbformat_minor": 1
}
