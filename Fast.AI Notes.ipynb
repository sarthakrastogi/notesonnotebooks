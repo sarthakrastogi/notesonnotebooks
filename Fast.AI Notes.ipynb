{
 "cells": [
  {
   "cell_type": "code",
   "execution_count": null,
   "metadata": {
    "colab": {
     "base_uri": "https://localhost:8080/"
    },
    "executionInfo": {
     "elapsed": 11148,
     "status": "ok",
     "timestamp": 1606750949695,
     "user": {
      "displayName": "Sarthak Rastogi",
      "photoUrl": "https://lh3.googleusercontent.com/a-/AOh14Gju2mNh-CIUs6e_EgYdv7eWpyCq5RUtF0XfW0PgJUM=s64",
      "userId": "13011506269675720653"
     },
     "user_tz": -330
    },
    "id": "00VtfEiw0FK4",
    "outputId": "bc4f360c-61e5-492a-dff1-2be872167b2c"
   },
   "outputs": [
    {
     "name": "stdout",
     "output_type": "stream",
     "text": [
      "Collecting fastbook\n",
      "\u001b[?25l  Downloading https://files.pythonhosted.org/packages/f2/ff/66f16fb9ceb45646e59a38ad5eb0f05fbd6524c20d9c4a2c922cdcd2955b/fastbook-0.0.16-py3-none-any.whl (720kB)\n",
      "\u001b[K     |████████████████████████████████| 727kB 6.5MB/s \n",
      "\u001b[?25hCollecting fastai>=2.1\n",
      "\u001b[?25l  Downloading https://files.pythonhosted.org/packages/14/04/73437c9781274b3dea0d7b039c365c5b140ce47889e47609eedd2c5f7b3d/fastai-2.1.7-py3-none-any.whl (189kB)\n",
      "\u001b[K     |████████████████████████████████| 194kB 10.9MB/s \n",
      "\u001b[?25hCollecting sentencepiece\n",
      "\u001b[?25l  Downloading https://files.pythonhosted.org/packages/e5/2d/6d4ca4bef9a67070fa1cac508606328329152b1df10bdf31fb6e4e727894/sentencepiece-0.1.94-cp36-cp36m-manylinux2014_x86_64.whl (1.1MB)\n",
      "\u001b[K     |████████████████████████████████| 1.1MB 16.3MB/s \n",
      "\u001b[?25hRequirement already satisfied: packaging in /usr/local/lib/python3.6/dist-packages (from fastbook) (20.4)\n",
      "Requirement already satisfied: ipywidgets in /usr/local/lib/python3.6/dist-packages (from fastbook) (7.5.1)\n",
      "Requirement already satisfied: pip in /usr/local/lib/python3.6/dist-packages (from fastbook) (19.3.1)\n",
      "Collecting nbdev>=0.2.38\n",
      "\u001b[?25l  Downloading https://files.pythonhosted.org/packages/4b/c5/a02d58ef8c2a75baf3bb873aecff8690d4b9d12c2b23e786dce09ef93f86/nbdev-1.1.5-py3-none-any.whl (47kB)\n",
      "\u001b[K     |████████████████████████████████| 51kB 7.4MB/s \n",
      "\u001b[?25hRequirement already satisfied: pandas in /usr/local/lib/python3.6/dist-packages (from fastbook) (1.1.4)\n",
      "Requirement already satisfied: requests in /usr/local/lib/python3.6/dist-packages (from fastbook) (2.23.0)\n",
      "Requirement already satisfied: scipy in /usr/local/lib/python3.6/dist-packages (from fastai>=2.1->fastbook) (1.4.1)\n",
      "Requirement already satisfied: pillow in /usr/local/lib/python3.6/dist-packages (from fastai>=2.1->fastbook) (7.0.0)\n",
      "Collecting fastcore>=1.3.5\n",
      "\u001b[?25l  Downloading https://files.pythonhosted.org/packages/ba/0c/a08940a410b3c55b082578b7142e96afa1c8e3f39972b99366093bb4af59/fastcore-1.3.10-py3-none-any.whl (51kB)\n",
      "\u001b[K     |████████████████████████████████| 61kB 7.8MB/s \n",
      "\u001b[?25hRequirement already satisfied: pyyaml in /usr/local/lib/python3.6/dist-packages (from fastai>=2.1->fastbook) (3.13)\n",
      "Requirement already satisfied: fastprogress>=0.2.4 in /usr/local/lib/python3.6/dist-packages (from fastai>=2.1->fastbook) (1.0.0)\n",
      "Requirement already satisfied: scikit-learn in /usr/local/lib/python3.6/dist-packages (from fastai>=2.1->fastbook) (0.22.2.post1)\n",
      "Requirement already satisfied: spacy in /usr/local/lib/python3.6/dist-packages (from fastai>=2.1->fastbook) (2.2.4)\n",
      "Requirement already satisfied: matplotlib in /usr/local/lib/python3.6/dist-packages (from fastai>=2.1->fastbook) (3.2.2)\n",
      "Requirement already satisfied: torchvision>=0.8 in /usr/local/lib/python3.6/dist-packages (from fastai>=2.1->fastbook) (0.8.1+cu101)\n",
      "Requirement already satisfied: torch>=1.7.0 in /usr/local/lib/python3.6/dist-packages (from fastai>=2.1->fastbook) (1.7.0+cu101)\n",
      "Requirement already satisfied: pyparsing>=2.0.2 in /usr/local/lib/python3.6/dist-packages (from packaging->fastbook) (2.4.7)\n",
      "Requirement already satisfied: six in /usr/local/lib/python3.6/dist-packages (from packaging->fastbook) (1.15.0)\n",
      "Requirement already satisfied: ipython>=4.0.0; python_version >= \"3.3\" in /usr/local/lib/python3.6/dist-packages (from ipywidgets->fastbook) (5.5.0)\n",
      "Requirement already satisfied: widgetsnbextension~=3.5.0 in /usr/local/lib/python3.6/dist-packages (from ipywidgets->fastbook) (3.5.1)\n",
      "Requirement already satisfied: nbformat>=4.2.0 in /usr/local/lib/python3.6/dist-packages (from ipywidgets->fastbook) (5.0.8)\n",
      "Requirement already satisfied: ipykernel>=4.5.1 in /usr/local/lib/python3.6/dist-packages (from ipywidgets->fastbook) (4.10.1)\n",
      "Requirement already satisfied: traitlets>=4.3.1 in /usr/local/lib/python3.6/dist-packages (from ipywidgets->fastbook) (4.3.3)\n",
      "Requirement already satisfied: nbconvert<6 in /usr/local/lib/python3.6/dist-packages (from nbdev>=0.2.38->fastbook) (5.6.1)\n",
      "Requirement already satisfied: jupyter-client in /usr/local/lib/python3.6/dist-packages (from nbdev>=0.2.38->fastbook) (5.3.5)\n",
      "Requirement already satisfied: pytz>=2017.2 in /usr/local/lib/python3.6/dist-packages (from pandas->fastbook) (2018.9)\n",
      "Requirement already satisfied: python-dateutil>=2.7.3 in /usr/local/lib/python3.6/dist-packages (from pandas->fastbook) (2.8.1)\n",
      "Requirement already satisfied: numpy>=1.15.4 in /usr/local/lib/python3.6/dist-packages (from pandas->fastbook) (1.18.5)\n",
      "Requirement already satisfied: certifi>=2017.4.17 in /usr/local/lib/python3.6/dist-packages (from requests->fastbook) (2020.11.8)\n",
      "Requirement already satisfied: urllib3!=1.25.0,!=1.25.1,<1.26,>=1.21.1 in /usr/local/lib/python3.6/dist-packages (from requests->fastbook) (1.24.3)\n",
      "Requirement already satisfied: idna<3,>=2.5 in /usr/local/lib/python3.6/dist-packages (from requests->fastbook) (2.10)\n",
      "Requirement already satisfied: chardet<4,>=3.0.2 in /usr/local/lib/python3.6/dist-packages (from requests->fastbook) (3.0.4)\n",
      "Requirement already satisfied: joblib>=0.11 in /usr/local/lib/python3.6/dist-packages (from scikit-learn->fastai>=2.1->fastbook) (0.17.0)\n",
      "Requirement already satisfied: thinc==7.4.0 in /usr/local/lib/python3.6/dist-packages (from spacy->fastai>=2.1->fastbook) (7.4.0)\n",
      "Requirement already satisfied: preshed<3.1.0,>=3.0.2 in /usr/local/lib/python3.6/dist-packages (from spacy->fastai>=2.1->fastbook) (3.0.4)\n",
      "Requirement already satisfied: wasabi<1.1.0,>=0.4.0 in /usr/local/lib/python3.6/dist-packages (from spacy->fastai>=2.1->fastbook) (0.8.0)\n",
      "Requirement already satisfied: tqdm<5.0.0,>=4.38.0 in /usr/local/lib/python3.6/dist-packages (from spacy->fastai>=2.1->fastbook) (4.41.1)\n",
      "Requirement already satisfied: murmurhash<1.1.0,>=0.28.0 in /usr/local/lib/python3.6/dist-packages (from spacy->fastai>=2.1->fastbook) (1.0.4)\n",
      "Requirement already satisfied: srsly<1.1.0,>=1.0.2 in /usr/local/lib/python3.6/dist-packages (from spacy->fastai>=2.1->fastbook) (1.0.4)\n",
      "Requirement already satisfied: plac<1.2.0,>=0.9.6 in /usr/local/lib/python3.6/dist-packages (from spacy->fastai>=2.1->fastbook) (1.1.3)\n",
      "Requirement already satisfied: blis<0.5.0,>=0.4.0 in /usr/local/lib/python3.6/dist-packages (from spacy->fastai>=2.1->fastbook) (0.4.1)\n",
      "Requirement already satisfied: cymem<2.1.0,>=2.0.2 in /usr/local/lib/python3.6/dist-packages (from spacy->fastai>=2.1->fastbook) (2.0.4)\n",
      "Requirement already satisfied: catalogue<1.1.0,>=0.0.7 in /usr/local/lib/python3.6/dist-packages (from spacy->fastai>=2.1->fastbook) (1.0.0)\n",
      "Requirement already satisfied: setuptools in /usr/local/lib/python3.6/dist-packages (from spacy->fastai>=2.1->fastbook) (50.3.2)\n",
      "Requirement already satisfied: cycler>=0.10 in /usr/local/lib/python3.6/dist-packages (from matplotlib->fastai>=2.1->fastbook) (0.10.0)\n",
      "Requirement already satisfied: kiwisolver>=1.0.1 in /usr/local/lib/python3.6/dist-packages (from matplotlib->fastai>=2.1->fastbook) (1.3.1)\n",
      "Requirement already satisfied: typing-extensions in /usr/local/lib/python3.6/dist-packages (from torch>=1.7.0->fastai>=2.1->fastbook) (3.7.4.3)\n",
      "Requirement already satisfied: dataclasses in /usr/local/lib/python3.6/dist-packages (from torch>=1.7.0->fastai>=2.1->fastbook) (0.8)\n",
      "Requirement already satisfied: future in /usr/local/lib/python3.6/dist-packages (from torch>=1.7.0->fastai>=2.1->fastbook) (0.16.0)\n",
      "Requirement already satisfied: pygments in /usr/local/lib/python3.6/dist-packages (from ipython>=4.0.0; python_version >= \"3.3\"->ipywidgets->fastbook) (2.6.1)\n",
      "Requirement already satisfied: decorator in /usr/local/lib/python3.6/dist-packages (from ipython>=4.0.0; python_version >= \"3.3\"->ipywidgets->fastbook) (4.4.2)\n",
      "Requirement already satisfied: pexpect; sys_platform != \"win32\" in /usr/local/lib/python3.6/dist-packages (from ipython>=4.0.0; python_version >= \"3.3\"->ipywidgets->fastbook) (4.8.0)\n",
      "Requirement already satisfied: simplegeneric>0.8 in /usr/local/lib/python3.6/dist-packages (from ipython>=4.0.0; python_version >= \"3.3\"->ipywidgets->fastbook) (0.8.1)\n",
      "Requirement already satisfied: prompt-toolkit<2.0.0,>=1.0.4 in /usr/local/lib/python3.6/dist-packages (from ipython>=4.0.0; python_version >= \"3.3\"->ipywidgets->fastbook) (1.0.18)\n",
      "Requirement already satisfied: pickleshare in /usr/local/lib/python3.6/dist-packages (from ipython>=4.0.0; python_version >= \"3.3\"->ipywidgets->fastbook) (0.7.5)\n",
      "Requirement already satisfied: notebook>=4.4.1 in /usr/local/lib/python3.6/dist-packages (from widgetsnbextension~=3.5.0->ipywidgets->fastbook) (5.3.1)\n",
      "Requirement already satisfied: jsonschema!=2.5.0,>=2.4 in /usr/local/lib/python3.6/dist-packages (from nbformat>=4.2.0->ipywidgets->fastbook) (2.6.0)\n",
      "Requirement already satisfied: jupyter-core in /usr/local/lib/python3.6/dist-packages (from nbformat>=4.2.0->ipywidgets->fastbook) (4.7.0)\n",
      "Requirement already satisfied: ipython-genutils in /usr/local/lib/python3.6/dist-packages (from nbformat>=4.2.0->ipywidgets->fastbook) (0.2.0)\n",
      "Requirement already satisfied: tornado>=4.0 in /usr/local/lib/python3.6/dist-packages (from ipykernel>=4.5.1->ipywidgets->fastbook) (5.1.1)\n",
      "Requirement already satisfied: defusedxml in /usr/local/lib/python3.6/dist-packages (from nbconvert<6->nbdev>=0.2.38->fastbook) (0.6.0)\n",
      "Requirement already satisfied: entrypoints>=0.2.2 in /usr/local/lib/python3.6/dist-packages (from nbconvert<6->nbdev>=0.2.38->fastbook) (0.3)\n",
      "Requirement already satisfied: jinja2>=2.4 in /usr/local/lib/python3.6/dist-packages (from nbconvert<6->nbdev>=0.2.38->fastbook) (2.11.2)\n",
      "Requirement already satisfied: bleach in /usr/local/lib/python3.6/dist-packages (from nbconvert<6->nbdev>=0.2.38->fastbook) (3.2.1)\n",
      "Requirement already satisfied: pandocfilters>=1.4.1 in /usr/local/lib/python3.6/dist-packages (from nbconvert<6->nbdev>=0.2.38->fastbook) (1.4.3)\n",
      "Requirement already satisfied: testpath in /usr/local/lib/python3.6/dist-packages (from nbconvert<6->nbdev>=0.2.38->fastbook) (0.4.4)\n",
      "Requirement already satisfied: mistune<2,>=0.8.1 in /usr/local/lib/python3.6/dist-packages (from nbconvert<6->nbdev>=0.2.38->fastbook) (0.8.4)\n",
      "Requirement already satisfied: pyzmq>=13 in /usr/local/lib/python3.6/dist-packages (from jupyter-client->nbdev>=0.2.38->fastbook) (20.0.0)\n",
      "Requirement already satisfied: importlib-metadata>=0.20; python_version < \"3.8\" in /usr/local/lib/python3.6/dist-packages (from catalogue<1.1.0,>=0.0.7->spacy->fastai>=2.1->fastbook) (2.0.0)\n",
      "Requirement already satisfied: ptyprocess>=0.5 in /usr/local/lib/python3.6/dist-packages (from pexpect; sys_platform != \"win32\"->ipython>=4.0.0; python_version >= \"3.3\"->ipywidgets->fastbook) (0.6.0)\n",
      "Requirement already satisfied: wcwidth in /usr/local/lib/python3.6/dist-packages (from prompt-toolkit<2.0.0,>=1.0.4->ipython>=4.0.0; python_version >= \"3.3\"->ipywidgets->fastbook) (0.2.5)\n",
      "Requirement already satisfied: Send2Trash in /usr/local/lib/python3.6/dist-packages (from notebook>=4.4.1->widgetsnbextension~=3.5.0->ipywidgets->fastbook) (1.5.0)\n",
      "Requirement already satisfied: terminado>=0.8.1 in /usr/local/lib/python3.6/dist-packages (from notebook>=4.4.1->widgetsnbextension~=3.5.0->ipywidgets->fastbook) (0.9.1)\n",
      "Requirement already satisfied: MarkupSafe>=0.23 in /usr/local/lib/python3.6/dist-packages (from jinja2>=2.4->nbconvert<6->nbdev>=0.2.38->fastbook) (1.1.1)\n",
      "Requirement already satisfied: webencodings in /usr/local/lib/python3.6/dist-packages (from bleach->nbconvert<6->nbdev>=0.2.38->fastbook) (0.5.1)\n",
      "Requirement already satisfied: zipp>=0.5 in /usr/local/lib/python3.6/dist-packages (from importlib-metadata>=0.20; python_version < \"3.8\"->catalogue<1.1.0,>=0.0.7->spacy->fastai>=2.1->fastbook) (3.4.0)\n",
      "Installing collected packages: fastcore, fastai, sentencepiece, nbdev, fastbook\n",
      "  Found existing installation: fastai 1.0.61\n",
      "    Uninstalling fastai-1.0.61:\n",
      "      Successfully uninstalled fastai-1.0.61\n",
      "Successfully installed fastai-2.1.7 fastbook-0.0.16 fastcore-1.3.10 nbdev-1.1.5 sentencepiece-0.1.94\n"
     ]
    },
    {
     "data": {
      "text/plain": [
       "(100,\n",
       " 'https://static.parade.com/wp-content/uploads/2014/03/polar-bear-eyeballs-in-sub-freezing-temps-ftr.jpg')"
      ]
     },
     "execution_count": 2,
     "metadata": {
      "tags": []
     },
     "output_type": "execute_result"
    }
   ],
   "source": [
    "!pip install fastbook\n",
    "from fastbook import *"
   ]
  },
  {
   "cell_type": "code",
   "execution_count": null,
   "metadata": {
    "colab": {
     "base_uri": "https://localhost:8080/"
    },
    "executionInfo": {
     "elapsed": 1554,
     "status": "ok",
     "timestamp": 1606751975475,
     "user": {
      "displayName": "Sarthak Rastogi",
      "photoUrl": "https://lh3.googleusercontent.com/a-/AOh14Gju2mNh-CIUs6e_EgYdv7eWpyCq5RUtF0XfW0PgJUM=s64",
      "userId": "13011506269675720653"
     },
     "user_tz": -330
    },
    "id": "zefjtYza0SeC",
    "outputId": "bc583a99-4c78-4440-fb71-669679f0cdb6"
   },
   "outputs": [
    {
     "data": {
      "text/plain": [
       "(100,\n",
       " 'https://static.parade.com/wp-content/uploads/2014/03/polar-bear-eyeballs-in-sub-freezing-temps-ftr.jpg')"
      ]
     },
     "execution_count": 11,
     "metadata": {
      "tags": []
     },
     "output_type": "execute_result"
    }
   ],
   "source": [
    "urls = search_images_ddg('polar bear', max_images = 100)\n",
    "len(urls), urls[0]"
   ]
  },
  {
   "cell_type": "code",
   "execution_count": null,
   "metadata": {
    "id": "2fwm02493iku"
   },
   "outputs": [],
   "source": [
    "for i in range(1, 50):\n",
    "  download_url(urls[i], 'images/')"
   ]
  },
  {
   "cell_type": "code",
   "execution_count": null,
   "metadata": {
    "colab": {
     "base_uri": "https://localhost:8080/",
     "height": 279
    },
    "executionInfo": {
     "elapsed": 1138,
     "status": "error",
     "timestamp": 1606751975916,
     "user": {
      "displayName": "Sarthak Rastogi",
      "photoUrl": "https://lh3.googleusercontent.com/a-/AOh14Gju2mNh-CIUs6e_EgYdv7eWpyCq5RUtF0XfW0PgJUM=s64",
      "userId": "13011506269675720653"
     },
     "user_tz": -330
    },
    "id": "C2sAf0cN3ow_",
    "outputId": "6aec7be3-b817-456e-eb08-0f450cd9f101"
   },
   "outputs": [
    {
     "ename": "UnidentifiedImageError",
     "evalue": "ignored",
     "output_type": "error",
     "traceback": [
      "\u001b[0;31m---------------------------------------------------------------------------\u001b[0m",
      "\u001b[0;31mUnidentifiedImageError\u001b[0m                    Traceback (most recent call last)",
      "\u001b[0;32m<ipython-input-13-37320656719d>\u001b[0m in \u001b[0;36m<module>\u001b[0;34m()\u001b[0m\n\u001b[0;32m----> 1\u001b[0;31m \u001b[0mim\u001b[0m \u001b[0;34m=\u001b[0m \u001b[0mImage\u001b[0m\u001b[0;34m.\u001b[0m\u001b[0mopen\u001b[0m\u001b[0;34m(\u001b[0m\u001b[0;34m'/content/images/bear.jpg'\u001b[0m\u001b[0;34m)\u001b[0m\u001b[0;34m\u001b[0m\u001b[0;34m\u001b[0m\u001b[0m\n\u001b[0m",
      "\u001b[0;32m/usr/local/lib/python3.6/dist-packages/PIL/Image.py\u001b[0m in \u001b[0;36mopen\u001b[0;34m(fp, mode)\u001b[0m\n\u001b[1;32m   2860\u001b[0m         \u001b[0mwarnings\u001b[0m\u001b[0;34m.\u001b[0m\u001b[0mwarn\u001b[0m\u001b[0;34m(\u001b[0m\u001b[0mmessage\u001b[0m\u001b[0;34m)\u001b[0m\u001b[0;34m\u001b[0m\u001b[0;34m\u001b[0m\u001b[0m\n\u001b[1;32m   2861\u001b[0m     raise UnidentifiedImageError(\n\u001b[0;32m-> 2862\u001b[0;31m         \u001b[0;34m\"cannot identify image file %r\"\u001b[0m \u001b[0;34m%\u001b[0m \u001b[0;34m(\u001b[0m\u001b[0mfilename\u001b[0m \u001b[0;32mif\u001b[0m \u001b[0mfilename\u001b[0m \u001b[0;32melse\u001b[0m \u001b[0mfp\u001b[0m\u001b[0;34m)\u001b[0m\u001b[0;34m\u001b[0m\u001b[0;34m\u001b[0m\u001b[0m\n\u001b[0m\u001b[1;32m   2863\u001b[0m     )\n\u001b[1;32m   2864\u001b[0m \u001b[0;34m\u001b[0m\u001b[0m\n",
      "\u001b[0;31mUnidentifiedImageError\u001b[0m: cannot identify image file '/content/images/bear.jpg'"
     ]
    }
   ],
   "source": [
    "im = Image.open('/content/images/bear.jpg')"
   ]
  },
  {
   "cell_type": "code",
   "execution_count": null,
   "metadata": {
    "id": "-DKv4vh2OQ2k"
   },
   "outputs": [],
   "source": []
  }
 ],
 "metadata": {
  "colab": {
   "authorship_tag": "ABX9TyN8w6S1uR2dMDo1XGp0G5sl",
   "name": "Fast.AI Notes.ipynb",
   "provenance": []
  },
  "kernelspec": {
   "display_name": "Python 3",
   "language": "python",
   "name": "python3"
  },
  "language_info": {
   "codemirror_mode": {
    "name": "ipython",
    "version": 3
   },
   "file_extension": ".py",
   "mimetype": "text/x-python",
   "name": "python",
   "nbconvert_exporter": "python",
   "pygments_lexer": "ipython3",
   "version": "3.8.5"
  }
 },
 "nbformat": 4,
 "nbformat_minor": 1
}
