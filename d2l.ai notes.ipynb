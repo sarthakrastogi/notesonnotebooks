{
 "cells": [
  {
   "cell_type": "markdown",
   "metadata": {
    "id": "UoiXmvSRMgvT"
   },
   "source": []
  },
  {
   "cell_type": "code",
   "execution_count": 1,
   "metadata": {
    "executionInfo": {
     "elapsed": 2655,
     "status": "ok",
     "timestamp": 1605196903946,
     "user": {
      "displayName": "Sarthak Rastogi",
      "photoUrl": "https://lh3.googleusercontent.com/a-/AOh14Gju2mNh-CIUs6e_EgYdv7eWpyCq5RUtF0XfW0PgJUM=s64",
      "userId": "13011506269675720653"
     },
     "user_tz": -330
    },
    "id": "k8uX-I7EMFI-"
   },
   "outputs": [],
   "source": [
    "import tensorflow as tf"
   ]
  },
  {
   "cell_type": "code",
   "execution_count": 11,
   "metadata": {
    "colab": {
     "base_uri": "https://localhost:8080/"
    },
    "executionInfo": {
     "elapsed": 1002,
     "status": "ok",
     "timestamp": 1605197073884,
     "user": {
      "displayName": "Sarthak Rastogi",
      "photoUrl": "https://lh3.googleusercontent.com/a-/AOh14Gju2mNh-CIUs6e_EgYdv7eWpyCq5RUtF0XfW0PgJUM=s64",
      "userId": "13011506269675720653"
     },
     "user_tz": -330
    },
    "id": "pfmDW6s4MM1v",
    "outputId": "d5c90015-efc2-4f9b-e5d6-0f9694de5557"
   },
   "outputs": [
    {
     "data": {
      "text/plain": [
       "<tf.Tensor: shape=(12,), dtype=int32, numpy=array([ 0,  1,  2,  3,  4,  5,  6,  7,  8,  9, 10, 11], dtype=int32)>"
      ]
     },
     "execution_count": 11,
     "metadata": {
      "tags": []
     },
     "output_type": "execute_result"
    }
   ],
   "source": [
    "x = tf.range(12)\n",
    "x"
   ]
  },
  {
   "cell_type": "code",
   "execution_count": 7,
   "metadata": {
    "colab": {
     "base_uri": "https://localhost:8080/"
    },
    "executionInfo": {
     "elapsed": 2191,
     "status": "ok",
     "timestamp": 1605196968325,
     "user": {
      "displayName": "Sarthak Rastogi",
      "photoUrl": "https://lh3.googleusercontent.com/a-/AOh14Gju2mNh-CIUs6e_EgYdv7eWpyCq5RUtF0XfW0PgJUM=s64",
      "userId": "13011506269675720653"
     },
     "user_tz": -330
    },
    "id": "5y18wLSiMZEL",
    "outputId": "af6e295e-402b-4c5d-d3b7-32b61ca0e45a"
   },
   "outputs": [
    {
     "data": {
      "text/plain": [
       "TensorShape([12])"
      ]
     },
     "execution_count": 7,
     "metadata": {
      "tags": []
     },
     "output_type": "execute_result"
    }
   ],
   "source": [
    "x.shape"
   ]
  },
  {
   "cell_type": "markdown",
   "metadata": {
    "id": "hsa2gRRjMvIs"
   },
   "source": [
    "Total number of elements in tensor"
   ]
  },
  {
   "cell_type": "code",
   "execution_count": 12,
   "metadata": {
    "colab": {
     "base_uri": "https://localhost:8080/"
    },
    "executionInfo": {
     "elapsed": 1643,
     "status": "ok",
     "timestamp": 1605197081900,
     "user": {
      "displayName": "Sarthak Rastogi",
      "photoUrl": "https://lh3.googleusercontent.com/a-/AOh14Gju2mNh-CIUs6e_EgYdv7eWpyCq5RUtF0XfW0PgJUM=s64",
      "userId": "13011506269675720653"
     },
     "user_tz": -330
    },
    "id": "WE1SDzZ3MzfB",
    "outputId": "0b759248-772b-4fc1-d5f9-d7eb8ad02d34"
   },
   "outputs": [
    {
     "data": {
      "text/plain": [
       "<tf.Tensor: shape=(), dtype=int32, numpy=12>"
      ]
     },
     "execution_count": 12,
     "metadata": {
      "tags": []
     },
     "output_type": "execute_result"
    }
   ],
   "source": [
    "tf.size(x)"
   ]
  },
  {
   "cell_type": "code",
   "execution_count": 14,
   "metadata": {
    "colab": {
     "base_uri": "https://localhost:8080/"
    },
    "executionInfo": {
     "elapsed": 1084,
     "status": "ok",
     "timestamp": 1605197270591,
     "user": {
      "displayName": "Sarthak Rastogi",
      "photoUrl": "https://lh3.googleusercontent.com/a-/AOh14Gju2mNh-CIUs6e_EgYdv7eWpyCq5RUtF0XfW0PgJUM=s64",
      "userId": "13011506269675720653"
     },
     "user_tz": -330
    },
    "id": "V781D7I8MeaC",
    "outputId": "568a7492-799e-41dd-ade6-3323290a8b87"
   },
   "outputs": [
    {
     "data": {
      "text/plain": [
       "<tf.Tensor: shape=(2, 3), dtype=float32, numpy=\n",
       "array([[0., 0., 0.],\n",
       "       [0., 0., 0.]], dtype=float32)>"
      ]
     },
     "execution_count": 14,
     "metadata": {
      "tags": []
     },
     "output_type": "execute_result"
    }
   ],
   "source": [
    "tf.zeros((2, 3))"
   ]
  },
  {
   "cell_type": "code",
   "execution_count": 16,
   "metadata": {
    "colab": {
     "base_uri": "https://localhost:8080/"
    },
    "executionInfo": {
     "elapsed": 1040,
     "status": "ok",
     "timestamp": 1605197288854,
     "user": {
      "displayName": "Sarthak Rastogi",
      "photoUrl": "https://lh3.googleusercontent.com/a-/AOh14Gju2mNh-CIUs6e_EgYdv7eWpyCq5RUtF0XfW0PgJUM=s64",
      "userId": "13011506269675720653"
     },
     "user_tz": -330
    },
    "id": "fAv5iacCMzOA",
    "outputId": "e136a002-0f1f-447b-9b14-83f8d28199d7"
   },
   "outputs": [
    {
     "data": {
      "text/plain": [
       "<tf.Tensor: shape=(3, 4, 2), dtype=float32, numpy=\n",
       "array([[[1., 1.],\n",
       "        [1., 1.],\n",
       "        [1., 1.],\n",
       "        [1., 1.]],\n",
       "\n",
       "       [[1., 1.],\n",
       "        [1., 1.],\n",
       "        [1., 1.],\n",
       "        [1., 1.]],\n",
       "\n",
       "       [[1., 1.],\n",
       "        [1., 1.],\n",
       "        [1., 1.],\n",
       "        [1., 1.]]], dtype=float32)>"
      ]
     },
     "execution_count": 16,
     "metadata": {
      "tags": []
     },
     "output_type": "execute_result"
    }
   ],
   "source": [
    "tf.ones((3, 4, 2))"
   ]
  },
  {
   "cell_type": "code",
   "execution_count": 17,
   "metadata": {
    "colab": {
     "base_uri": "https://localhost:8080/"
    },
    "executionInfo": {
     "elapsed": 1066,
     "status": "ok",
     "timestamp": 1605197307245,
     "user": {
      "displayName": "Sarthak Rastogi",
      "photoUrl": "https://lh3.googleusercontent.com/a-/AOh14Gju2mNh-CIUs6e_EgYdv7eWpyCq5RUtF0XfW0PgJUM=s64",
      "userId": "13011506269675720653"
     },
     "user_tz": -330
    },
    "id": "V3oy3YWUNrGp",
    "outputId": "76c655c4-5a60-4b09-f69c-75e17b89b423"
   },
   "outputs": [
    {
     "data": {
      "text/plain": [
       "<tf.Tensor: shape=(3, 4), dtype=float32, numpy=\n",
       "array([[ 1.7709154 ,  0.6242883 ,  0.1711332 , -0.91588306],\n",
       "       [-0.82536656, -2.3393738 ,  0.90602535,  1.5313603 ],\n",
       "       [ 0.4381742 , -0.8822942 , -0.45142537, -0.82932335]],\n",
       "      dtype=float32)>"
      ]
     },
     "execution_count": 17,
     "metadata": {
      "tags": []
     },
     "output_type": "execute_result"
    }
   ],
   "source": [
    "tf.random.normal(shape = [3, 4])"
   ]
  },
  {
   "cell_type": "code",
   "execution_count": 18,
   "metadata": {
    "colab": {
     "base_uri": "https://localhost:8080/"
    },
    "executionInfo": {
     "elapsed": 1067,
     "status": "ok",
     "timestamp": 1605197321626,
     "user": {
      "displayName": "Sarthak Rastogi",
      "photoUrl": "https://lh3.googleusercontent.com/a-/AOh14Gju2mNh-CIUs6e_EgYdv7eWpyCq5RUtF0XfW0PgJUM=s64",
      "userId": "13011506269675720653"
     },
     "user_tz": -330
    },
    "id": "VM8_jsRmNxao",
    "outputId": "684deeae-e391-4a9e-be0d-681ab592f451"
   },
   "outputs": [
    {
     "data": {
      "text/plain": [
       "<tf.Tensor: shape=(3, 4), dtype=int32, numpy=\n",
       "array([[2, 1, 4, 3],\n",
       "       [1, 2, 3, 4],\n",
       "       [4, 3, 2, 1]], dtype=int32)>"
      ]
     },
     "execution_count": 18,
     "metadata": {
      "tags": []
     },
     "output_type": "execute_result"
    }
   ],
   "source": [
    "tf.constant([[2, 1, 4, 3], [1, 2, 3, 4], [4, 3, 2, 1]])"
   ]
  },
  {
   "cell_type": "code",
   "execution_count": 21,
   "metadata": {
    "colab": {
     "base_uri": "https://localhost:8080/"
    },
    "executionInfo": {
     "elapsed": 985,
     "status": "ok",
     "timestamp": 1605197889599,
     "user": {
      "displayName": "Sarthak Rastogi",
      "photoUrl": "https://lh3.googleusercontent.com/a-/AOh14Gju2mNh-CIUs6e_EgYdv7eWpyCq5RUtF0XfW0PgJUM=s64",
      "userId": "13011506269675720653"
     },
     "user_tz": -330
    },
    "id": "XLwdVAagN00O",
    "outputId": "5c862d8b-b22c-4055-d15a-3f7b4d262ce8"
   },
   "outputs": [
    {
     "data": {
      "text/plain": [
       "(<tf.Tensor: shape=(4,), dtype=float32, numpy=array([ 3.,  4.,  6., 10.], dtype=float32)>,\n",
       " <tf.Tensor: shape=(4,), dtype=float32, numpy=array([-1.,  0.,  2.,  6.], dtype=float32)>,\n",
       " <tf.Tensor: shape=(4,), dtype=float32, numpy=array([ 2.,  4.,  8., 16.], dtype=float32)>,\n",
       " <tf.Tensor: shape=(4,), dtype=float32, numpy=array([0.5, 1. , 2. , 4. ], dtype=float32)>,\n",
       " <tf.Tensor: shape=(4,), dtype=float32, numpy=array([ 1.,  4., 16., 64.], dtype=float32)>,\n",
       " <tf.Tensor: shape=(4,), dtype=float32, numpy=\n",
       " array([2.7182817e+00, 7.3890562e+00, 5.4598148e+01, 2.9809580e+03],\n",
       "       dtype=float32)>)"
      ]
     },
     "execution_count": 21,
     "metadata": {
      "tags": []
     },
     "output_type": "execute_result"
    }
   ],
   "source": [
    "x = tf.constant([1.0, 2, 4, 8])\n",
    "y = tf.constant([2.0, 2, 2, 2])\n",
    "x + y, x - y, x * y, x / y, x ** y, tf.exp(x)  # The ** operator is exponentiation"
   ]
  },
  {
   "cell_type": "code",
   "execution_count": 22,
   "metadata": {
    "colab": {
     "base_uri": "https://localhost:8080/"
    },
    "executionInfo": {
     "elapsed": 1052,
     "status": "ok",
     "timestamp": 1605198037321,
     "user": {
      "displayName": "Sarthak Rastogi",
      "photoUrl": "https://lh3.googleusercontent.com/a-/AOh14Gju2mNh-CIUs6e_EgYdv7eWpyCq5RUtF0XfW0PgJUM=s64",
      "userId": "13011506269675720653"
     },
     "user_tz": -330
    },
    "id": "SD0NMNmhP2bu",
    "outputId": "fdb2e790-1d7b-4e76-a665-73915741e21e"
   },
   "outputs": [
    {
     "data": {
      "text/plain": [
       "(<tf.Tensor: shape=(6, 4), dtype=float32, numpy=\n",
       " array([[ 0.,  1.,  2.,  3.],\n",
       "        [ 4.,  5.,  6.,  7.],\n",
       "        [ 8.,  9., 10., 11.],\n",
       "        [ 2.,  1.,  4.,  3.],\n",
       "        [ 1.,  2.,  3.,  4.],\n",
       "        [ 4.,  3.,  2.,  1.]], dtype=float32)>,\n",
       " <tf.Tensor: shape=(3, 8), dtype=float32, numpy=\n",
       " array([[ 0.,  1.,  2.,  3.,  2.,  1.,  4.,  3.],\n",
       "        [ 4.,  5.,  6.,  7.,  1.,  2.,  3.,  4.],\n",
       "        [ 8.,  9., 10., 11.,  4.,  3.,  2.,  1.]], dtype=float32)>)"
      ]
     },
     "execution_count": 22,
     "metadata": {
      "tags": []
     },
     "output_type": "execute_result"
    }
   ],
   "source": [
    "X = tf.reshape(tf.range(12, dtype=tf.float32), (3, 4))\n",
    "Y = tf.constant([[2.0, 1, 4, 3], [1, 2, 3, 4], [4, 3, 2, 1]])\n",
    "tf.concat([X, Y], axis=0), tf.concat([X, Y], axis=1)"
   ]
  },
  {
   "cell_type": "code",
   "execution_count": 23,
   "metadata": {
    "colab": {
     "base_uri": "https://localhost:8080/"
    },
    "executionInfo": {
     "elapsed": 982,
     "status": "ok",
     "timestamp": 1605198063588,
     "user": {
      "displayName": "Sarthak Rastogi",
      "photoUrl": "https://lh3.googleusercontent.com/a-/AOh14Gju2mNh-CIUs6e_EgYdv7eWpyCq5RUtF0XfW0PgJUM=s64",
      "userId": "13011506269675720653"
     },
     "user_tz": -330
    },
    "id": "vdeqAbyNQjyb",
    "outputId": "545e420e-8598-452e-a004-685888ebea02"
   },
   "outputs": [
    {
     "data": {
      "text/plain": [
       "<tf.Tensor: shape=(), dtype=float32, numpy=66.0>"
      ]
     },
     "execution_count": 23,
     "metadata": {
      "tags": []
     },
     "output_type": "execute_result"
    }
   ],
   "source": [
    "tf.reduce_sum(X)"
   ]
  },
  {
   "cell_type": "code",
   "execution_count": 24,
   "metadata": {
    "colab": {
     "base_uri": "https://localhost:8080/"
    },
    "executionInfo": {
     "elapsed": 1084,
     "status": "ok",
     "timestamp": 1605198088798,
     "user": {
      "displayName": "Sarthak Rastogi",
      "photoUrl": "https://lh3.googleusercontent.com/a-/AOh14Gju2mNh-CIUs6e_EgYdv7eWpyCq5RUtF0XfW0PgJUM=s64",
      "userId": "13011506269675720653"
     },
     "user_tz": -330
    },
    "id": "H3vC1tyDQqPY",
    "outputId": "51941d08-7e98-4d0c-bfb3-9dca6dd7e0b1"
   },
   "outputs": [
    {
     "data": {
      "text/plain": [
       "(<tf.Tensor: shape=(3, 1), dtype=int32, numpy=\n",
       " array([[0],\n",
       "        [1],\n",
       "        [2]], dtype=int32)>,\n",
       " <tf.Tensor: shape=(1, 2), dtype=int32, numpy=array([[0, 1]], dtype=int32)>)"
      ]
     },
     "execution_count": 24,
     "metadata": {
      "tags": []
     },
     "output_type": "execute_result"
    }
   ],
   "source": [
    "a = tf.reshape(tf.range(3), (3, 1))\n",
    "b = tf.reshape(tf.range(2), (1, 2))\n",
    "a, b"
   ]
  },
  {
   "cell_type": "code",
   "execution_count": 25,
   "metadata": {
    "colab": {
     "base_uri": "https://localhost:8080/"
    },
    "executionInfo": {
     "elapsed": 1011,
     "status": "ok",
     "timestamp": 1605198099320,
     "user": {
      "displayName": "Sarthak Rastogi",
      "photoUrl": "https://lh3.googleusercontent.com/a-/AOh14Gju2mNh-CIUs6e_EgYdv7eWpyCq5RUtF0XfW0PgJUM=s64",
      "userId": "13011506269675720653"
     },
     "user_tz": -330
    },
    "id": "D-JhxxoeQwXx",
    "outputId": "3a884e64-8c86-4843-a670-2652ee4ebc86"
   },
   "outputs": [
    {
     "data": {
      "text/plain": [
       "<tf.Tensor: shape=(3, 2), dtype=int32, numpy=\n",
       "array([[0, 1],\n",
       "       [1, 2],\n",
       "       [2, 3]], dtype=int32)>"
      ]
     },
     "execution_count": 25,
     "metadata": {
      "tags": []
     },
     "output_type": "execute_result"
    }
   ],
   "source": [
    "a + b"
   ]
  },
  {
   "cell_type": "code",
   "execution_count": 26,
   "metadata": {
    "colab": {
     "base_uri": "https://localhost:8080/"
    },
    "executionInfo": {
     "elapsed": 990,
     "status": "ok",
     "timestamp": 1605198357505,
     "user": {
      "displayName": "Sarthak Rastogi",
      "photoUrl": "https://lh3.googleusercontent.com/a-/AOh14Gju2mNh-CIUs6e_EgYdv7eWpyCq5RUtF0XfW0PgJUM=s64",
      "userId": "13011506269675720653"
     },
     "user_tz": -330
    },
    "id": "HznVEreJQyzQ",
    "outputId": "bbb52135-4589-4745-d84d-2d4d82c0d1b2"
   },
   "outputs": [
    {
     "data": {
      "text/plain": [
       "(<tf.Tensor: shape=(4,), dtype=float32, numpy=array([ 8.,  9., 10., 11.], dtype=float32)>,\n",
       " <tf.Tensor: shape=(2, 4), dtype=float32, numpy=\n",
       " array([[ 4.,  5.,  6.,  7.],\n",
       "        [ 8.,  9., 10., 11.]], dtype=float32)>)"
      ]
     },
     "execution_count": 26,
     "metadata": {
      "tags": []
     },
     "output_type": "execute_result"
    }
   ],
   "source": [
    "X[-1], X[1:3]"
   ]
  },
  {
   "cell_type": "code",
   "execution_count": 27,
   "metadata": {
    "colab": {
     "base_uri": "https://localhost:8080/"
    },
    "executionInfo": {
     "elapsed": 978,
     "status": "ok",
     "timestamp": 1605198393171,
     "user": {
      "displayName": "Sarthak Rastogi",
      "photoUrl": "https://lh3.googleusercontent.com/a-/AOh14Gju2mNh-CIUs6e_EgYdv7eWpyCq5RUtF0XfW0PgJUM=s64",
      "userId": "13011506269675720653"
     },
     "user_tz": -330
    },
    "id": "jvEd7BnDRx_s",
    "outputId": "48a05169-cf92-4fa0-abb4-a77cb77b4be6"
   },
   "outputs": [
    {
     "data": {
      "text/plain": [
       "<tf.Variable 'Variable:0' shape=(3, 4) dtype=float32, numpy=\n",
       "array([[ 0.,  1.,  2.,  3.],\n",
       "       [ 4.,  5.,  9.,  7.],\n",
       "       [ 8.,  9., 10., 11.]], dtype=float32)>"
      ]
     },
     "execution_count": 27,
     "metadata": {
      "tags": []
     },
     "output_type": "execute_result"
    }
   ],
   "source": [
    "X_var = tf.Variable(X)\n",
    "X_var[1, 2].assign(9)\n",
    "X_var"
   ]
  },
  {
   "cell_type": "code",
   "execution_count": 28,
   "metadata": {
    "colab": {
     "base_uri": "https://localhost:8080/"
    },
    "executionInfo": {
     "elapsed": 1106,
     "status": "ok",
     "timestamp": 1605198422696,
     "user": {
      "displayName": "Sarthak Rastogi",
      "photoUrl": "https://lh3.googleusercontent.com/a-/AOh14Gju2mNh-CIUs6e_EgYdv7eWpyCq5RUtF0XfW0PgJUM=s64",
      "userId": "13011506269675720653"
     },
     "user_tz": -330
    },
    "id": "SBTMMDpGR6tX",
    "outputId": "c9d5eb1f-6145-48f2-d8e9-6289399a0277"
   },
   "outputs": [
    {
     "data": {
      "text/plain": [
       "<tf.Variable 'Variable:0' shape=(3, 4) dtype=float32, numpy=\n",
       "array([[12., 12., 12., 12.],\n",
       "       [12., 12., 12., 12.],\n",
       "       [ 8.,  9., 10., 11.]], dtype=float32)>"
      ]
     },
     "execution_count": 28,
     "metadata": {
      "tags": []
     },
     "output_type": "execute_result"
    }
   ],
   "source": [
    "X_var = tf.Variable(X)\n",
    "X_var[0:2, :].assign(tf.ones(X_var[0:2,:].shape, dtype = tf.float32) * 12)\n",
    "X_var"
   ]
  },
  {
   "cell_type": "code",
   "execution_count": null,
   "metadata": {
    "id": "74cYnf6oSB4r"
   },
   "outputs": [],
   "source": []
  }
 ],
 "metadata": {
  "colab": {
   "authorship_tag": "ABX9TyPO/11mOh1s4+S/DZCKf5ZB",
   "name": "d2l.ai notes.ipynb",
   "provenance": []
  },
  "kernelspec": {
   "display_name": "Python 3",
   "language": "python",
   "name": "python3"
  },
  "language_info": {
   "codemirror_mode": {
    "name": "ipython",
    "version": 3
   },
   "file_extension": ".py",
   "mimetype": "text/x-python",
   "name": "python",
   "nbconvert_exporter": "python",
   "pygments_lexer": "ipython3",
   "version": "3.8.5"
  }
 },
 "nbformat": 4,
 "nbformat_minor": 1
}
